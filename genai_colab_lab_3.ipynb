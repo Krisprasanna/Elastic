{
  "cells": [
    {
      "cell_type": "markdown",
      "metadata": {
        "id": "45iKqhTIUkjf"
      },
      "source": [
        "# Setup Environment\n",
        "The following code loads the environment variables required to run this notebook.\n"
      ]
    },
    {
      "cell_type": "code",
      "execution_count": 2,
      "metadata": {
        "id": "SO7q2oWEURVE"
      },
      "outputs": [
        {
          "data": {
            "application/vnd.jupyter.widget-view+json": {
              "model_id": "2d01b2a587f64dcd9fc54daafed81d2b",
              "version_major": 2,
              "version_minor": 0
            },
            "text/plain": [
              "VBox(children=(Label(value='Please enter the Workshop Key provided by the instructor:'), HBox(children=(Text(v…"
            ]
          },
          "metadata": {},
          "output_type": "display_data"
        },
        {
          "name": "stdout",
          "output_type": "stream",
          "text": [
            "Successfully loaded environment variables for the SCB-GenAI-Wave2 workshop from remote env file\n"
          ]
        }
      ],
      "source": [
        "FILE=\"GenAI Lab 3\"\n",
        "\n",
        "# ! pip install -qqq git+https://github.com/elastic/notebook-workshop-loader.git@main\n",
        "from notebookworkshoploader import loader\n",
        "import os\n",
        "from dotenv import load_dotenv\n",
        "\n",
        "if os.path.isfile(\"../env\"):\n",
        "    load_dotenv(\"../env\", override=True)\n",
        "    print('Successfully loaded environment variables from local env file')\n",
        "else:\n",
        "    loader.load_remote_env(file=FILE, env_url=\"https://notebook-workshop-api-voldmqr2bq-uc.a.run.app\")"
      ]
    },
    {
      "cell_type": "code",
      "execution_count": 3,
      "metadata": {
        "id": "y2eoZ4hCUud2"
      },
      "outputs": [
        {
          "name": "stdout",
          "output_type": "stream",
          "text": [
            "github codespaces has pre-installed these libraries\n"
          ]
        },
        {
          "name": "stderr",
          "output_type": "stream",
          "text": [
            "/home/codespace/.python/current/lib/python3.10/site-packages/transformers/utils/generic.py:441: UserWarning: torch.utils._pytree._register_pytree_node is deprecated. Please use torch.utils._pytree.register_pytree_node instead.\n",
            "  _torch_pytree._register_pytree_node(\n"
          ]
        }
      ],
      "source": [
        "# ! pip install -qqq langchain==0.1.3 sentence-transformers==2.2.2 beautifulsoup4==4.11.2\n",
        "# ! pip install -qqq tiktoken==0.5.2 cohere==4.38 openai==1.3.9\n",
        "# ! pip install -qqq matplotlib==3.8.1 scikit-learn==1.2.2 scipy==1.11.4\n",
        "# ! pip install -qqq elasticsearch==8.12.0 inquirer==3.2.1\n",
        "! echo \"github codespaces has pre-installed these libraries\"\n",
        "\n",
        "from sentence_transformers import SentenceTransformer\n",
        "from langchain_community.embeddings import HuggingFaceEmbeddings"
      ]
    },
    {
      "cell_type": "code",
      "execution_count": 4,
      "metadata": {
        "id": "kpsGUDWAX42B"
      },
      "outputs": [],
      "source": [
        "import os\n",
        "from elasticsearch import Elasticsearch\n",
        "if 'ELASTIC_CLOUD_ID' in os.environ:\n",
        "  es = Elasticsearch(\n",
        "    cloud_id=os.environ['ELASTIC_CLOUD_ID'],\n",
        "    api_key=(os.environ['ELASTIC_APIKEY_ID'], os.environ['ELASTIC_APIKEY_SECRET']),\n",
        "    request_timeout=30\n",
        "  )\n",
        "elif 'ELASTIC_URL' in os.environ:\n",
        "  es = Elasticsearch(\n",
        "    os.environ['ELASTIC_URL'],\n",
        "    api_key=(os.environ['ELASTIC_APIKEY_ID'], os.environ['ELASTIC_APIKEY_SECRET']),\n",
        "    request_timeout=30\n",
        "  )\n",
        "else:\n",
        "  print(\"env needs to set either ELASTIC_CLOUD_ID or ELASTIC_URL\")"
      ]
    },
    {
      "cell_type": "code",
      "execution_count": 5,
      "metadata": {
        "id": "59sPX8_HETbL"
      },
      "outputs": [
        {
          "name": "stdout",
          "output_type": "stream",
          "text": [
            "Your unique user hash is: ab61973b98bf\n"
          ]
        }
      ],
      "source": [
        "import os, secrets, requests\n",
        "import openai\n",
        "from openai import OpenAI\n",
        "from requests.auth import HTTPBasicAuth\n",
        "\n",
        "#if using the Elastic AI proxy, then generate the correct API key\n",
        "if os.environ['ELASTIC_PROXY'] == \"True\":\n",
        "\n",
        "    if \"OPENAI_API_TYPE\" in os.environ: del os.environ[\"OPENAI_API_TYPE\"]\n",
        "\n",
        "    #generate and share \"your\" unique hash\n",
        "    os.environ['USER_HASH'] = secrets.token_hex(nbytes=6)\n",
        "    print(f\"Your unique user hash is: {os.environ['USER_HASH']}\")\n",
        "\n",
        "    #get the current API key and combine with your hash\n",
        "    os.environ['OPENAI_API_KEY'] = f\"{os.environ['OPENAI_API_KEY']} {os.environ['USER_HASH']}\"\n",
        "else:\n",
        "    openai.api_type = os.environ['OPENAI_API_TYPE']\n",
        "    openai.api_version = os.environ['OPENAI_API_VERSION']\n",
        "\n",
        "openai.api_key = os.environ['OPENAI_API_KEY']\n",
        "openai.api_base = os.environ['OPENAI_API_BASE']\n",
        "openai.default_model = os.environ['OPENAI_API_ENGINE']"
      ]
    },
    {
      "cell_type": "markdown",
      "metadata": {},
      "source": [
        "# Lab 3-1"
      ]
    },
    {
      "cell_type": "markdown",
      "metadata": {
        "id": "iWXrus6La0wF"
      },
      "source": [
        "## Step 1 : Simple vectorization using a Vector Embedding model installed to Elasticsearch\n",
        "[Model Card - msmarco-MiniLM-L-12-v3](https://huggingface.co/sentence-transformers/msmarco-MiniLM-L-12-v3). - note this model has a 512 token limit"
      ]
    },
    {
      "cell_type": "code",
      "execution_count": 6,
      "metadata": {
        "id": "Sqo3T-LlY_Go"
      },
      "outputs": [
        {
          "name": "stdout",
          "output_type": "stream",
          "text": [
            "Dimensions: 384, \n",
            "Vector preview: [-0.011030248366296291, -0.18938450515270233, -0.08361712098121643, -0.0008371425210498273, 0.14675039052963257, '...']\n"
          ]
        }
      ],
      "source": [
        "es_model_id = 'sentence-transformers__msmarco-minilm-l-12-v3'\n",
        "\n",
        "## use REST call to Elastic to generate Vector Embedding, assumes model is already installed\n",
        "def sentence_to_vector_es(chunk, es_model_id=es_model_id):\n",
        "  docs =  [{\"text_field\": chunk}]\n",
        "  chunk_vector = es.ml.infer_trained_model(model_id=es_model_id, docs=docs, )\n",
        "  return chunk_vector['inference_results'][0]['predicted_value']\n",
        "\n",
        "\n",
        "chunk = \"The quick brown fox jumped over the lazy dog\"\n",
        "es_generated_vector = sentence_to_vector_es(chunk)\n",
        "print(f\"Dimensions: {len(es_generated_vector)}, \\nVector preview: {es_generated_vector[:5]+ ['...']}\")"
      ]
    },
    {
      "cell_type": "markdown",
      "metadata": {
        "id": "El7UrXMcgnns"
      },
      "source": [
        "## Step 2: Vectoring Data using a local E5 model and Sentence Transformer\n",
        "\n",
        "[Model card E5-large-v2](https://huggingface.co/intfloat/e5-large-v2)"
      ]
    },
    {
      "cell_type": "code",
      "execution_count": 7,
      "metadata": {
        "id": "q6a7y24zeBnU"
      },
      "outputs": [
        {
          "data": {
            "application/json": {
              "ascii": false,
              "bar_format": null,
              "colour": null,
              "elapsed": 0.004275083541870117,
              "initial": 0,
              "n": 0,
              "ncols": null,
              "nrows": null,
              "postfix": null,
              "prefix": "Downloading .gitattributes",
              "rate": null,
              "total": 1477,
              "unit": "B",
              "unit_divisor": 1000,
              "unit_scale": true
            },
            "application/vnd.jupyter.widget-view+json": {
              "model_id": "55370f421e5444e1b0a87e35ab43b20a",
              "version_major": 2,
              "version_minor": 0
            },
            "text/plain": [
              "Downloading .gitattributes:   0%|          | 0.00/1.48k [00:00<?, ?B/s]"
            ]
          },
          "metadata": {},
          "output_type": "display_data"
        },
        {
          "data": {
            "application/json": {
              "ascii": false,
              "bar_format": null,
              "colour": null,
              "elapsed": 0.004158973693847656,
              "initial": 0,
              "n": 0,
              "ncols": null,
              "nrows": null,
              "postfix": null,
              "prefix": "Downloading 1_Pooling/config.json",
              "rate": null,
              "total": 201,
              "unit": "B",
              "unit_divisor": 1000,
              "unit_scale": true
            },
            "application/vnd.jupyter.widget-view+json": {
              "model_id": "922f1e5fe8eb4e8cbd2efb73d222ab17",
              "version_major": 2,
              "version_minor": 0
            },
            "text/plain": [
              "Downloading 1_Pooling/config.json:   0%|          | 0.00/201 [00:00<?, ?B/s]"
            ]
          },
          "metadata": {},
          "output_type": "display_data"
        },
        {
          "data": {
            "application/json": {
              "ascii": false,
              "bar_format": null,
              "colour": null,
              "elapsed": 0.0044782161712646484,
              "initial": 0,
              "n": 0,
              "ncols": null,
              "nrows": null,
              "postfix": null,
              "prefix": "Downloading README.md",
              "rate": null,
              "total": 67842,
              "unit": "B",
              "unit_divisor": 1000,
              "unit_scale": true
            },
            "application/vnd.jupyter.widget-view+json": {
              "model_id": "6397d836a4bd4064b5269b1293f8c673",
              "version_major": 2,
              "version_minor": 0
            },
            "text/plain": [
              "Downloading README.md:   0%|          | 0.00/67.8k [00:00<?, ?B/s]"
            ]
          },
          "metadata": {},
          "output_type": "display_data"
        },
        {
          "data": {
            "application/json": {
              "ascii": false,
              "bar_format": null,
              "colour": null,
              "elapsed": 0.004216432571411133,
              "initial": 0,
              "n": 0,
              "ncols": null,
              "nrows": null,
              "postfix": null,
              "prefix": "Downloading config.json",
              "rate": null,
              "total": 616,
              "unit": "B",
              "unit_divisor": 1000,
              "unit_scale": true
            },
            "application/vnd.jupyter.widget-view+json": {
              "model_id": "cc38abce972540ddab6453614c8039e0",
              "version_major": 2,
              "version_minor": 0
            },
            "text/plain": [
              "Downloading config.json:   0%|          | 0.00/616 [00:00<?, ?B/s]"
            ]
          },
          "metadata": {},
          "output_type": "display_data"
        },
        {
          "data": {
            "application/json": {
              "ascii": false,
              "bar_format": null,
              "colour": null,
              "elapsed": 0.0048427581787109375,
              "initial": 0,
              "n": 0,
              "ncols": null,
              "nrows": null,
              "postfix": null,
              "prefix": "Downloading handler.py",
              "rate": null,
              "total": 1125,
              "unit": "B",
              "unit_divisor": 1000,
              "unit_scale": true
            },
            "application/vnd.jupyter.widget-view+json": {
              "model_id": "7d859ab928fc45669a6054ec44963f63",
              "version_major": 2,
              "version_minor": 0
            },
            "text/plain": [
              "Downloading handler.py:   0%|          | 0.00/1.12k [00:00<?, ?B/s]"
            ]
          },
          "metadata": {},
          "output_type": "display_data"
        },
        {
          "data": {
            "application/json": {
              "ascii": false,
              "bar_format": null,
              "colour": null,
              "elapsed": 0.004139900207519531,
              "initial": 0,
              "n": 0,
              "ncols": null,
              "nrows": null,
              "postfix": null,
              "prefix": "Downloading model.safetensors",
              "rate": null,
              "total": 1340616616,
              "unit": "B",
              "unit_divisor": 1000,
              "unit_scale": true
            },
            "application/vnd.jupyter.widget-view+json": {
              "model_id": "007b494cefbc473cab33af5901391522",
              "version_major": 2,
              "version_minor": 0
            },
            "text/plain": [
              "Downloading model.safetensors:   0%|          | 0.00/1.34G [00:00<?, ?B/s]"
            ]
          },
          "metadata": {},
          "output_type": "display_data"
        },
        {
          "data": {
            "application/json": {
              "ascii": false,
              "bar_format": null,
              "colour": null,
              "elapsed": 0.005180835723876953,
              "initial": 0,
              "n": 0,
              "ncols": null,
              "nrows": null,
              "postfix": null,
              "prefix": "Downloading pytorch_model.bin",
              "rate": null,
              "total": 1340698349,
              "unit": "B",
              "unit_divisor": 1000,
              "unit_scale": true
            },
            "application/vnd.jupyter.widget-view+json": {
              "model_id": "5f5ed3a641c6484cb2ad05b780679dac",
              "version_major": 2,
              "version_minor": 0
            },
            "text/plain": [
              "Downloading pytorch_model.bin:   0%|          | 0.00/1.34G [00:00<?, ?B/s]"
            ]
          },
          "metadata": {},
          "output_type": "display_data"
        },
        {
          "data": {
            "application/json": {
              "ascii": false,
              "bar_format": null,
              "colour": null,
              "elapsed": 0.004591703414916992,
              "initial": 0,
              "n": 0,
              "ncols": null,
              "nrows": null,
              "postfix": null,
              "prefix": "Downloading (…)nce_bert_config.json",
              "rate": null,
              "total": 57,
              "unit": "B",
              "unit_divisor": 1000,
              "unit_scale": true
            },
            "application/vnd.jupyter.widget-view+json": {
              "model_id": "5c0e9ff50875492597a7682b4a3043fd",
              "version_major": 2,
              "version_minor": 0
            },
            "text/plain": [
              "Downloading (…)nce_bert_config.json:   0%|          | 0.00/57.0 [00:00<?, ?B/s]"
            ]
          },
          "metadata": {},
          "output_type": "display_data"
        },
        {
          "data": {
            "application/json": {
              "ascii": false,
              "bar_format": null,
              "colour": null,
              "elapsed": 0.004606485366821289,
              "initial": 0,
              "n": 0,
              "ncols": null,
              "nrows": null,
              "postfix": null,
              "prefix": "Downloading (…)cial_tokens_map.json",
              "rate": null,
              "total": 125,
              "unit": "B",
              "unit_divisor": 1000,
              "unit_scale": true
            },
            "application/vnd.jupyter.widget-view+json": {
              "model_id": "db29eb8cf4b343deb7063ad721ab3417",
              "version_major": 2,
              "version_minor": 0
            },
            "text/plain": [
              "Downloading (…)cial_tokens_map.json:   0%|          | 0.00/125 [00:00<?, ?B/s]"
            ]
          },
          "metadata": {},
          "output_type": "display_data"
        },
        {
          "data": {
            "application/json": {
              "ascii": false,
              "bar_format": null,
              "colour": null,
              "elapsed": 0.0045893192291259766,
              "initial": 0,
              "n": 0,
              "ncols": null,
              "nrows": null,
              "postfix": null,
              "prefix": "Downloading tokenizer.json",
              "rate": null,
              "total": 711396,
              "unit": "B",
              "unit_divisor": 1000,
              "unit_scale": true
            },
            "application/vnd.jupyter.widget-view+json": {
              "model_id": "85fb6c1a26af4a5395bf7353f2152da3",
              "version_major": 2,
              "version_minor": 0
            },
            "text/plain": [
              "Downloading tokenizer.json:   0%|          | 0.00/711k [00:00<?, ?B/s]"
            ]
          },
          "metadata": {},
          "output_type": "display_data"
        },
        {
          "data": {
            "application/json": {
              "ascii": false,
              "bar_format": null,
              "colour": null,
              "elapsed": 0.0045206546783447266,
              "initial": 0,
              "n": 0,
              "ncols": null,
              "nrows": null,
              "postfix": null,
              "prefix": "Downloading tokenizer_config.json",
              "rate": null,
              "total": 314,
              "unit": "B",
              "unit_divisor": 1000,
              "unit_scale": true
            },
            "application/vnd.jupyter.widget-view+json": {
              "model_id": "1b58dac05ba4409ab2154e185b602ba5",
              "version_major": 2,
              "version_minor": 0
            },
            "text/plain": [
              "Downloading tokenizer_config.json:   0%|          | 0.00/314 [00:00<?, ?B/s]"
            ]
          },
          "metadata": {},
          "output_type": "display_data"
        },
        {
          "data": {
            "application/json": {
              "ascii": false,
              "bar_format": null,
              "colour": null,
              "elapsed": 0.005941629409790039,
              "initial": 0,
              "n": 0,
              "ncols": null,
              "nrows": null,
              "postfix": null,
              "prefix": "Downloading vocab.txt",
              "rate": null,
              "total": 231508,
              "unit": "B",
              "unit_divisor": 1000,
              "unit_scale": true
            },
            "application/vnd.jupyter.widget-view+json": {
              "model_id": "b5ce8b69107240bb863fb044fd76ac18",
              "version_major": 2,
              "version_minor": 0
            },
            "text/plain": [
              "Downloading vocab.txt:   0%|          | 0.00/232k [00:00<?, ?B/s]"
            ]
          },
          "metadata": {},
          "output_type": "display_data"
        },
        {
          "data": {
            "application/json": {
              "ascii": false,
              "bar_format": null,
              "colour": null,
              "elapsed": 0.004193544387817383,
              "initial": 0,
              "n": 0,
              "ncols": null,
              "nrows": null,
              "postfix": null,
              "prefix": "Downloading modules.json",
              "rate": null,
              "total": 387,
              "unit": "B",
              "unit_divisor": 1000,
              "unit_scale": true
            },
            "application/vnd.jupyter.widget-view+json": {
              "model_id": "c7686fa32fba40f693aab356d57fb7fe",
              "version_major": 2,
              "version_minor": 0
            },
            "text/plain": [
              "Downloading modules.json:   0%|          | 0.00/387 [00:00<?, ?B/s]"
            ]
          },
          "metadata": {},
          "output_type": "display_data"
        },
        {
          "name": "stderr",
          "output_type": "stream",
          "text": [
            "/home/codespace/.python/current/lib/python3.10/site-packages/transformers/utils/generic.py:309: UserWarning: torch.utils._pytree._register_pytree_node is deprecated. Please use torch.utils._pytree.register_pytree_node instead.\n",
            "  _torch_pytree._register_pytree_node(\n"
          ]
        },
        {
          "name": "stdout",
          "output_type": "stream",
          "text": [
            "Dimensions: 1024, \n",
            "Vector preview: [ 0.00712777 -0.06917715  0.02202158 -0.01676847 -0.04590392 ...]\n"
          ]
        }
      ],
      "source": [
        "# from sentence_transformers import SentenceTransformer\n",
        "e5_model = SentenceTransformer('intfloat/e5-large-v2')\n",
        "input_texts = [\n",
        "    'query: how much protein should a female human eat',\n",
        "    'query: summit define',\n",
        "    \"passage: As a general guideline, the CDC's average requirement of protein for women ages 19 to 70 is 46 grams per day. But, as you can see from this chart, you'll need to increase that if you're expecting or training for a marathon. Check out the chart below to see how much protein you should be eating each day.\",\n",
        "    \"passage: Definition of summit for English Language Learners. : 1  the highest point of a mountain : the top of a mountain. : 2  the highest level. : 3  a meeting or series of meetings between the leaders of two or more governments.\"\n",
        "]\n",
        "embeddings = e5_model.encode(input_texts, normalize_embeddings=True)\n",
        "close=\" ...]\"\n",
        "print(f\"Dimensions: {len(embeddings[0])}, \\nVector preview: {str(embeddings[0][:5])[:-1]+close}\")"
      ]
    },
    {
      "cell_type": "markdown",
      "metadata": {
        "id": "hVZMHggOg4Vt"
      },
      "source": [
        "## Step 3: Doing the same thing but with the LangChain Utility libraries"
      ]
    },
    {
      "cell_type": "code",
      "execution_count": 8,
      "metadata": {
        "id": "x14UmhoMe6J4"
      },
      "outputs": [
        {
          "name": "stdout",
          "output_type": "stream",
          "text": [
            "Dimensions: 1024, \n",
            "Vector preview: [0.007127773482352495, -0.06917715072631836, 0.0220215804874897, -0.016768474131822586, -0.04590391740202904, ...]\n"
          ]
        }
      ],
      "source": [
        "# from langchain_community.embeddings import HuggingFaceEmbeddings\n",
        "langchain_e5_embeddings = HuggingFaceEmbeddings(model_name=\"intfloat/e5-large-v2\")\n",
        "input_texts = [\n",
        "    'query: how much protein should a female human eat',\n",
        "    'query: summit define',\n",
        "    \"passage: As a general guideline, the CDC's average requirement of protein for women ages 19 to 70 is 46 grams per day. But, as you can see from this chart, you'll need to increase that if you're expecting or training for a marathon. Check out the chart below to see how much protein you should be eating each day.\",\n",
        "    \"passage: Definition of summit for English Language Learners. : 1  the highest point of a mountain : the top of a mountain. : 2  the highest level. : 3  a meeting or series of meetings between the leaders of two or more governments.\"\n",
        "]\n",
        "embeddings = langchain_e5_embeddings.embed_documents(input_texts)\n",
        "close=\", ...]\"\n",
        "print(f\"Dimensions: {len(embeddings[0])}, \\nVector preview: {str(embeddings[0][:5])[:-1]+close}\")"
      ]
    },
    {
      "cell_type": "markdown",
      "metadata": {
        "id": "fIBODndAhoH1"
      },
      "source": [
        "## Step 4: Let's create a simplified graph of generated Embeddings\n",
        "\n",
        "Principal Component analysis can be used to simplify higher dimesions into a 2d plot.\n"
      ]
    },
    {
      "cell_type": "code",
      "execution_count": 9,
      "metadata": {
        "id": "_J1dTm5OiCuY"
      },
      "outputs": [
        {
          "data": {
            "application/json": {
              "ascii": false,
              "bar_format": null,
              "colour": null,
              "elapsed": 0.004483938217163086,
              "initial": 0,
              "n": 0,
              "ncols": null,
              "nrows": null,
              "postfix": null,
              "prefix": "Downloading .gitattributes",
              "rate": null,
              "total": 1229,
              "unit": "B",
              "unit_divisor": 1000,
              "unit_scale": true
            },
            "application/vnd.jupyter.widget-view+json": {
              "model_id": "b6f7d23042ad40fe9473b12a30e855ad",
              "version_major": 2,
              "version_minor": 0
            },
            "text/plain": [
              "Downloading .gitattributes:   0%|          | 0.00/1.23k [00:00<?, ?B/s]"
            ]
          },
          "metadata": {},
          "output_type": "display_data"
        },
        {
          "data": {
            "application/json": {
              "ascii": false,
              "bar_format": null,
              "colour": null,
              "elapsed": 0.004187345504760742,
              "initial": 0,
              "n": 0,
              "ncols": null,
              "nrows": null,
              "postfix": null,
              "prefix": "Downloading 1_Pooling/config.json",
              "rate": null,
              "total": 190,
              "unit": "B",
              "unit_divisor": 1000,
              "unit_scale": true
            },
            "application/vnd.jupyter.widget-view+json": {
              "model_id": "8f786fe9b2294406a795cf1ea1195a5d",
              "version_major": 2,
              "version_minor": 0
            },
            "text/plain": [
              "Downloading 1_Pooling/config.json:   0%|          | 0.00/190 [00:00<?, ?B/s]"
            ]
          },
          "metadata": {},
          "output_type": "display_data"
        },
        {
          "data": {
            "application/json": {
              "ascii": false,
              "bar_format": null,
              "colour": null,
              "elapsed": 0.004146099090576172,
              "initial": 0,
              "n": 0,
              "ncols": null,
              "nrows": null,
              "postfix": null,
              "prefix": "Downloading README.md",
              "rate": null,
              "total": 10659,
              "unit": "B",
              "unit_divisor": 1000,
              "unit_scale": true
            },
            "application/vnd.jupyter.widget-view+json": {
              "model_id": "085416747bd4469ca6fb5a7ded8789b5",
              "version_major": 2,
              "version_minor": 0
            },
            "text/plain": [
              "Downloading README.md:   0%|          | 0.00/10.7k [00:00<?, ?B/s]"
            ]
          },
          "metadata": {},
          "output_type": "display_data"
        },
        {
          "data": {
            "application/json": {
              "ascii": false,
              "bar_format": null,
              "colour": null,
              "elapsed": 0.0042362213134765625,
              "initial": 0,
              "n": 0,
              "ncols": null,
              "nrows": null,
              "postfix": null,
              "prefix": "Downloading config.json",
              "rate": null,
              "total": 612,
              "unit": "B",
              "unit_divisor": 1000,
              "unit_scale": true
            },
            "application/vnd.jupyter.widget-view+json": {
              "model_id": "c3e4202be3e14c08b47c8dff799c7584",
              "version_major": 2,
              "version_minor": 0
            },
            "text/plain": [
              "Downloading config.json:   0%|          | 0.00/612 [00:00<?, ?B/s]"
            ]
          },
          "metadata": {},
          "output_type": "display_data"
        },
        {
          "data": {
            "application/json": {
              "ascii": false,
              "bar_format": null,
              "colour": null,
              "elapsed": 0.004650115966796875,
              "initial": 0,
              "n": 0,
              "ncols": null,
              "nrows": null,
              "postfix": null,
              "prefix": "Downloading (…)ce_transformers.json",
              "rate": null,
              "total": 116,
              "unit": "B",
              "unit_divisor": 1000,
              "unit_scale": true
            },
            "application/vnd.jupyter.widget-view+json": {
              "model_id": "309d3cd563b6424f908e1244bdcebc80",
              "version_major": 2,
              "version_minor": 0
            },
            "text/plain": [
              "Downloading (…)ce_transformers.json:   0%|          | 0.00/116 [00:00<?, ?B/s]"
            ]
          },
          "metadata": {},
          "output_type": "display_data"
        },
        {
          "data": {
            "application/json": {
              "ascii": false,
              "bar_format": null,
              "colour": null,
              "elapsed": 0.006897449493408203,
              "initial": 0,
              "n": 0,
              "ncols": null,
              "nrows": null,
              "postfix": null,
              "prefix": "Downloading data_config.json",
              "rate": null,
              "total": 39265,
              "unit": "B",
              "unit_divisor": 1000,
              "unit_scale": true
            },
            "application/vnd.jupyter.widget-view+json": {
              "model_id": "3175534e29fc48408d124ef77b324089",
              "version_major": 2,
              "version_minor": 0
            },
            "text/plain": [
              "Downloading data_config.json:   0%|          | 0.00/39.3k [00:00<?, ?B/s]"
            ]
          },
          "metadata": {},
          "output_type": "display_data"
        },
        {
          "data": {
            "application/json": {
              "ascii": false,
              "bar_format": null,
              "colour": null,
              "elapsed": 0.004141092300415039,
              "initial": 0,
              "n": 0,
              "ncols": null,
              "nrows": null,
              "postfix": null,
              "prefix": "Downloading model.safetensors",
              "rate": null,
              "total": 90868376,
              "unit": "B",
              "unit_divisor": 1000,
              "unit_scale": true
            },
            "application/vnd.jupyter.widget-view+json": {
              "model_id": "f4f6c30d49694fe8a27d736730dd92ef",
              "version_major": 2,
              "version_minor": 0
            },
            "text/plain": [
              "Downloading model.safetensors:   0%|          | 0.00/90.9M [00:00<?, ?B/s]"
            ]
          },
          "metadata": {},
          "output_type": "display_data"
        },
        {
          "data": {
            "application/json": {
              "ascii": false,
              "bar_format": null,
              "colour": null,
              "elapsed": 0.0043964385986328125,
              "initial": 0,
              "n": 0,
              "ncols": null,
              "nrows": null,
              "postfix": null,
              "prefix": "Downloading pytorch_model.bin",
              "rate": null,
              "total": 90888945,
              "unit": "B",
              "unit_divisor": 1000,
              "unit_scale": true
            },
            "application/vnd.jupyter.widget-view+json": {
              "model_id": "a48fc9bad3594670b6fba813ecccb26a",
              "version_major": 2,
              "version_minor": 0
            },
            "text/plain": [
              "Downloading pytorch_model.bin:   0%|          | 0.00/90.9M [00:00<?, ?B/s]"
            ]
          },
          "metadata": {},
          "output_type": "display_data"
        },
        {
          "data": {
            "application/json": {
              "ascii": false,
              "bar_format": null,
              "colour": null,
              "elapsed": 0.004378557205200195,
              "initial": 0,
              "n": 0,
              "ncols": null,
              "nrows": null,
              "postfix": null,
              "prefix": "Downloading (…)nce_bert_config.json",
              "rate": null,
              "total": 53,
              "unit": "B",
              "unit_divisor": 1000,
              "unit_scale": true
            },
            "application/vnd.jupyter.widget-view+json": {
              "model_id": "4bbeb481bc0a4692a161da63fd8cec42",
              "version_major": 2,
              "version_minor": 0
            },
            "text/plain": [
              "Downloading (…)nce_bert_config.json:   0%|          | 0.00/53.0 [00:00<?, ?B/s]"
            ]
          },
          "metadata": {},
          "output_type": "display_data"
        },
        {
          "data": {
            "application/json": {
              "ascii": false,
              "bar_format": null,
              "colour": null,
              "elapsed": 0.004509687423706055,
              "initial": 0,
              "n": 0,
              "ncols": null,
              "nrows": null,
              "postfix": null,
              "prefix": "Downloading (…)cial_tokens_map.json",
              "rate": null,
              "total": 112,
              "unit": "B",
              "unit_divisor": 1000,
              "unit_scale": true
            },
            "application/vnd.jupyter.widget-view+json": {
              "model_id": "7825d3fdf43c4e0ebb34146bbd0d64e9",
              "version_major": 2,
              "version_minor": 0
            },
            "text/plain": [
              "Downloading (…)cial_tokens_map.json:   0%|          | 0.00/112 [00:00<?, ?B/s]"
            ]
          },
          "metadata": {},
          "output_type": "display_data"
        },
        {
          "data": {
            "application/json": {
              "ascii": false,
              "bar_format": null,
              "colour": null,
              "elapsed": 0.0042760372161865234,
              "initial": 0,
              "n": 0,
              "ncols": null,
              "nrows": null,
              "postfix": null,
              "prefix": "Downloading tokenizer.json",
              "rate": null,
              "total": 466247,
              "unit": "B",
              "unit_divisor": 1000,
              "unit_scale": true
            },
            "application/vnd.jupyter.widget-view+json": {
              "model_id": "30f1321c8797446d9ad2a8554119cdd3",
              "version_major": 2,
              "version_minor": 0
            },
            "text/plain": [
              "Downloading tokenizer.json:   0%|          | 0.00/466k [00:00<?, ?B/s]"
            ]
          },
          "metadata": {},
          "output_type": "display_data"
        },
        {
          "data": {
            "application/json": {
              "ascii": false,
              "bar_format": null,
              "colour": null,
              "elapsed": 0.004214048385620117,
              "initial": 0,
              "n": 0,
              "ncols": null,
              "nrows": null,
              "postfix": null,
              "prefix": "Downloading tokenizer_config.json",
              "rate": null,
              "total": 350,
              "unit": "B",
              "unit_divisor": 1000,
              "unit_scale": true
            },
            "application/vnd.jupyter.widget-view+json": {
              "model_id": "c2e7d7fec77e416fb1aff9f864df83cf",
              "version_major": 2,
              "version_minor": 0
            },
            "text/plain": [
              "Downloading tokenizer_config.json:   0%|          | 0.00/350 [00:00<?, ?B/s]"
            ]
          },
          "metadata": {},
          "output_type": "display_data"
        },
        {
          "data": {
            "application/json": {
              "ascii": false,
              "bar_format": null,
              "colour": null,
              "elapsed": 0.004941701889038086,
              "initial": 0,
              "n": 0,
              "ncols": null,
              "nrows": null,
              "postfix": null,
              "prefix": "Downloading train_script.py",
              "rate": null,
              "total": 13156,
              "unit": "B",
              "unit_divisor": 1000,
              "unit_scale": true
            },
            "application/vnd.jupyter.widget-view+json": {
              "model_id": "adad32b6fc6e42168d9b63502d7c56ea",
              "version_major": 2,
              "version_minor": 0
            },
            "text/plain": [
              "Downloading train_script.py:   0%|          | 0.00/13.2k [00:00<?, ?B/s]"
            ]
          },
          "metadata": {},
          "output_type": "display_data"
        },
        {
          "data": {
            "application/json": {
              "ascii": false,
              "bar_format": null,
              "colour": null,
              "elapsed": 0.004121541976928711,
              "initial": 0,
              "n": 0,
              "ncols": null,
              "nrows": null,
              "postfix": null,
              "prefix": "Downloading vocab.txt",
              "rate": null,
              "total": 231508,
              "unit": "B",
              "unit_divisor": 1000,
              "unit_scale": true
            },
            "application/vnd.jupyter.widget-view+json": {
              "model_id": "b70ef8bf7dcd4343afbfd7736198c4c5",
              "version_major": 2,
              "version_minor": 0
            },
            "text/plain": [
              "Downloading vocab.txt:   0%|          | 0.00/232k [00:00<?, ?B/s]"
            ]
          },
          "metadata": {},
          "output_type": "display_data"
        },
        {
          "data": {
            "application/json": {
              "ascii": false,
              "bar_format": null,
              "colour": null,
              "elapsed": 0.0046863555908203125,
              "initial": 0,
              "n": 0,
              "ncols": null,
              "nrows": null,
              "postfix": null,
              "prefix": "Downloading modules.json",
              "rate": null,
              "total": 349,
              "unit": "B",
              "unit_divisor": 1000,
              "unit_scale": true
            },
            "application/vnd.jupyter.widget-view+json": {
              "model_id": "f5e6779f1ae64e8385b84fbf5fe166dd",
              "version_major": 2,
              "version_minor": 0
            },
            "text/plain": [
              "Downloading modules.json:   0%|          | 0.00/349 [00:00<?, ?B/s]"
            ]
          },
          "metadata": {},
          "output_type": "display_data"
        },
        {
          "name": "stdout",
          "output_type": "stream",
          "text": [
            "Model dimensions: 384\n",
            "embedding dimensions: 384\n",
            "cat: [0.037330415, 0.051161796, -0.0003060505, 0.060209863, -0.11749439, '...']\n",
            "dog: [-0.053146973, 0.014194368, 0.007145681, 0.06860871, -0.07848035, '...']\n"
          ]
        }
      ],
      "source": [
        "# fetch the model and load it\n",
        "word_model = SentenceTransformer('sentence-transformers/all-MiniLM-L6-v2')\n",
        "print(\"Model dimensions:\", word_model.get_sentence_embedding_dimension())\n",
        "\n",
        "# generate embeddings\n",
        "embeddings_for_cat = word_model.encode(\"cat\")\n",
        "embeddings_for_kitten = word_model.encode(\"kitten\")\n",
        "embeddings_for_dog = word_model.encode(\"dog\")\n",
        "embeddings_for_puppy = word_model.encode(\"puppy\")\n",
        "embeddings_for_lawnmower = word_model.encode(\"lawnmower\")\n",
        "\n",
        "# let's see what we got, though truncate the embeddings to just the first 5 dimensions\n",
        "print(f\"embedding dimensions: {embeddings_for_cat.size}\")\n",
        "print(f\"cat: {list(embeddings_for_cat)[:5] + ['...']}\")\n",
        "print(f\"dog: {list(embeddings_for_dog)[:5] + ['...']}\")"
      ]
    },
    {
      "cell_type": "code",
      "execution_count": 10,
      "metadata": {
        "id": "edsUVexdhsKD"
      },
      "outputs": [
        {
          "data": {
            "text/html": [
              "\n",
              "<style>\n",
              "  #altair-viz-6b2a21dae42740009dfc6ddf99276135.vega-embed {\n",
              "    width: 100%;\n",
              "    display: flex;\n",
              "  }\n",
              "\n",
              "  #altair-viz-6b2a21dae42740009dfc6ddf99276135.vega-embed details,\n",
              "  #altair-viz-6b2a21dae42740009dfc6ddf99276135.vega-embed details summary {\n",
              "    position: relative;\n",
              "  }\n",
              "</style>\n",
              "<div id=\"altair-viz-6b2a21dae42740009dfc6ddf99276135\"></div>\n",
              "<script type=\"text/javascript\">\n",
              "  var VEGA_DEBUG = (typeof VEGA_DEBUG == \"undefined\") ? {} : VEGA_DEBUG;\n",
              "  (function(spec, embedOpt){\n",
              "    let outputDiv = document.currentScript.previousElementSibling;\n",
              "    if (outputDiv.id !== \"altair-viz-6b2a21dae42740009dfc6ddf99276135\") {\n",
              "      outputDiv = document.getElementById(\"altair-viz-6b2a21dae42740009dfc6ddf99276135\");\n",
              "    }\n",
              "    const paths = {\n",
              "      \"vega\": \"https://cdn.jsdelivr.net/npm/vega@5?noext\",\n",
              "      \"vega-lib\": \"https://cdn.jsdelivr.net/npm/vega-lib?noext\",\n",
              "      \"vega-lite\": \"https://cdn.jsdelivr.net/npm/vega-lite@5.17.0?noext\",\n",
              "      \"vega-embed\": \"https://cdn.jsdelivr.net/npm/vega-embed@6?noext\",\n",
              "    };\n",
              "\n",
              "    function maybeLoadScript(lib, version) {\n",
              "      var key = `${lib.replace(\"-\", \"\")}_version`;\n",
              "      return (VEGA_DEBUG[key] == version) ?\n",
              "        Promise.resolve(paths[lib]) :\n",
              "        new Promise(function(resolve, reject) {\n",
              "          var s = document.createElement('script');\n",
              "          document.getElementsByTagName(\"head\")[0].appendChild(s);\n",
              "          s.async = true;\n",
              "          s.onload = () => {\n",
              "            VEGA_DEBUG[key] = version;\n",
              "            return resolve(paths[lib]);\n",
              "          };\n",
              "          s.onerror = () => reject(`Error loading script: ${paths[lib]}`);\n",
              "          s.src = paths[lib];\n",
              "        });\n",
              "    }\n",
              "\n",
              "    function showError(err) {\n",
              "      outputDiv.innerHTML = `<div class=\"error\" style=\"color:red;\">${err}</div>`;\n",
              "      throw err;\n",
              "    }\n",
              "\n",
              "    function displayChart(vegaEmbed) {\n",
              "      vegaEmbed(outputDiv, spec, embedOpt)\n",
              "        .catch(err => showError(`Javascript Error: ${err.message}<br>This usually means there's a typo in your chart specification. See the javascript console for the full traceback.`));\n",
              "    }\n",
              "\n",
              "    if(typeof define === \"function\" && define.amd) {\n",
              "      requirejs.config({paths});\n",
              "      require([\"vega-embed\"], displayChart, err => showError(`Error loading script: ${err.message}`));\n",
              "    } else {\n",
              "      maybeLoadScript(\"vega\", \"5\")\n",
              "        .then(() => maybeLoadScript(\"vega-lite\", \"5.17.0\"))\n",
              "        .then(() => maybeLoadScript(\"vega-embed\", \"6\"))\n",
              "        .catch(showError)\n",
              "        .then(() => displayChart(vegaEmbed));\n",
              "    }\n",
              "  })({\"config\": {\"view\": {\"continuousWidth\": 300, \"continuousHeight\": 300}}, \"layer\": [{\"mark\": {\"type\": \"circle\", \"color\": \"crimson\", \"size\": 200, \"stroke\": \"white\", \"strokeWidth\": 1}, \"encoding\": {\"x\": {\"field\": \"x\", \"scale\": {\"zero\": false}, \"type\": \"quantitative\"}, \"y\": {\"field\": \"y\", \"scale\": {\"zero\": false}, \"type\": \"quantitative\"}}}, {\"mark\": {\"type\": \"text\", \"align\": \"left\", \"baseline\": \"bottom\", \"dx\": 5, \"fontSize\": 13}, \"encoding\": {\"text\": {\"field\": \"text\", \"type\": \"nominal\"}, \"x\": {\"field\": \"x\", \"scale\": {\"zero\": false}, \"type\": \"quantitative\"}, \"y\": {\"field\": \"y\", \"scale\": {\"zero\": false}, \"type\": \"quantitative\"}}}], \"data\": {\"name\": \"data-c3c031677b5e4bcd2dfaba647b8e5228\"}, \"height\": 300, \"width\": 400, \"$schema\": \"https://vega.github.io/schema/vega-lite/v5.17.0.json\", \"datasets\": {\"data-c3c031677b5e4bcd2dfaba647b8e5228\": [{\"text\": \"cat\", \"x\": -0.2004977911710739, \"y\": 0.3791115880012512}, {\"text\": \"kitten\", \"x\": -0.19271890819072723, \"y\": 0.4292667508125305}, {\"text\": \"dog\", \"x\": -0.23187005519866943, \"y\": -0.38082563877105713}, {\"text\": \"puppy\", \"x\": -0.24117465317249298, \"y\": -0.39804506301879883}, {\"text\": \"lawnmower\", \"x\": 0.8662611842155457, \"y\": -0.029508009552955627}]}}, {\"mode\": \"vega-lite\"});\n",
              "</script>"
            ],
            "text/plain": [
              "alt.LayerChart(...)"
            ]
          },
          "execution_count": 10,
          "metadata": {},
          "output_type": "execute_result"
        }
      ],
      "source": [
        "import pandas as pd\n",
        "import numpy as np\n",
        "import altair as alt\n",
        "from sklearn.decomposition import PCA\n",
        "\n",
        "# wrap embeddings with a DataFrame\n",
        "df = pd.DataFrame(\n",
        "    [\n",
        "      [embeddings_for_cat],\n",
        "      [embeddings_for_kitten],\n",
        "      [embeddings_for_dog],\n",
        "      [embeddings_for_puppy],\n",
        "      [embeddings_for_lawnmower],\n",
        "    ],\n",
        "    index=[\"cat\", \"kitten\", \"dog\", \"puppy\", \"lawnmower\"], columns=[\"embeddings\"]\n",
        ")\n",
        "\n",
        "# Initialize the PCA reducer to convert embeddings into arrays of length of 2\n",
        "reducer = PCA(n_components=2)\n",
        "\n",
        "# Reduce the embeddings, store them in a new dataframe column and display their shape\n",
        "df[\"reduced\"] = reducer.fit_transform(np.stack(df[\"embeddings\"])).tolist()\n",
        "\n",
        "\n",
        "def scatterplot(\n",
        "    data: pd.DataFrame,\n",
        "    tooltips=False,\n",
        "    labels=False,\n",
        "    width=800,\n",
        "    height=600,\n",
        ") -> alt.Chart:\n",
        "    base_chart = (\n",
        "        alt.Chart(data)\n",
        "        .encode(\n",
        "            alt.X(\"x\", scale=alt.Scale(zero=False)),\n",
        "            alt.Y(\"y\", scale=alt.Scale(zero=False)),\n",
        "        )\n",
        "        .properties(width=width, height=height)\n",
        "    )\n",
        "\n",
        "    if tooltips:\n",
        "        base_chart = base_chart.encode(alt.Tooltip([\"text\"]))\n",
        "\n",
        "    circles = base_chart.mark_circle(\n",
        "        size=200, color=\"crimson\", stroke=\"white\", strokeWidth=1\n",
        "    )\n",
        "\n",
        "    if labels:\n",
        "        labels = base_chart.mark_text(\n",
        "            fontSize=13,\n",
        "            align=\"left\",\n",
        "            baseline=\"bottom\",\n",
        "            dx=5,\n",
        "        ).encode(text=\"text\")\n",
        "        chart = circles + labels\n",
        "    else:\n",
        "        chart = circles\n",
        "\n",
        "    return chart\n",
        "\n",
        "source = pd.DataFrame(\n",
        "    {\n",
        "        \"text\": df.index,\n",
        "        \"x\": df[\"reduced\"].apply(lambda x: x[0]).to_list(),\n",
        "        \"y\": df[\"reduced\"].apply(lambda x: x[1]).to_list(),\n",
        "    }\n",
        ")\n",
        "\n",
        "scatterplot(source, labels=True,  width=400, height=300)"
      ]
    },
    {
      "cell_type": "markdown",
      "metadata": {
        "id": "yLrQl_eKnbjg"
      },
      "source": [
        "## Step 5 - using the more advanced e5 model, see that questions can be matched with answers"
      ]
    },
    {
      "cell_type": "code",
      "execution_count": 11,
      "metadata": {
        "id": "GXkl-MA7kyQw"
      },
      "outputs": [
        {
          "name": "stdout",
          "output_type": "stream",
          "text": [
            "embedding dimensions: 1024\n",
            "first query: [0.0071277735, -0.06917715, 0.02202158, '...']\n"
          ]
        },
        {
          "data": {
            "text/html": [
              "\n",
              "<style>\n",
              "  #altair-viz-be437082eb0a433d9085e4109377f000.vega-embed {\n",
              "    width: 100%;\n",
              "    display: flex;\n",
              "  }\n",
              "\n",
              "  #altair-viz-be437082eb0a433d9085e4109377f000.vega-embed details,\n",
              "  #altair-viz-be437082eb0a433d9085e4109377f000.vega-embed details summary {\n",
              "    position: relative;\n",
              "  }\n",
              "</style>\n",
              "<div id=\"altair-viz-be437082eb0a433d9085e4109377f000\"></div>\n",
              "<script type=\"text/javascript\">\n",
              "  var VEGA_DEBUG = (typeof VEGA_DEBUG == \"undefined\") ? {} : VEGA_DEBUG;\n",
              "  (function(spec, embedOpt){\n",
              "    let outputDiv = document.currentScript.previousElementSibling;\n",
              "    if (outputDiv.id !== \"altair-viz-be437082eb0a433d9085e4109377f000\") {\n",
              "      outputDiv = document.getElementById(\"altair-viz-be437082eb0a433d9085e4109377f000\");\n",
              "    }\n",
              "    const paths = {\n",
              "      \"vega\": \"https://cdn.jsdelivr.net/npm/vega@5?noext\",\n",
              "      \"vega-lib\": \"https://cdn.jsdelivr.net/npm/vega-lib?noext\",\n",
              "      \"vega-lite\": \"https://cdn.jsdelivr.net/npm/vega-lite@5.17.0?noext\",\n",
              "      \"vega-embed\": \"https://cdn.jsdelivr.net/npm/vega-embed@6?noext\",\n",
              "    };\n",
              "\n",
              "    function maybeLoadScript(lib, version) {\n",
              "      var key = `${lib.replace(\"-\", \"\")}_version`;\n",
              "      return (VEGA_DEBUG[key] == version) ?\n",
              "        Promise.resolve(paths[lib]) :\n",
              "        new Promise(function(resolve, reject) {\n",
              "          var s = document.createElement('script');\n",
              "          document.getElementsByTagName(\"head\")[0].appendChild(s);\n",
              "          s.async = true;\n",
              "          s.onload = () => {\n",
              "            VEGA_DEBUG[key] = version;\n",
              "            return resolve(paths[lib]);\n",
              "          };\n",
              "          s.onerror = () => reject(`Error loading script: ${paths[lib]}`);\n",
              "          s.src = paths[lib];\n",
              "        });\n",
              "    }\n",
              "\n",
              "    function showError(err) {\n",
              "      outputDiv.innerHTML = `<div class=\"error\" style=\"color:red;\">${err}</div>`;\n",
              "      throw err;\n",
              "    }\n",
              "\n",
              "    function displayChart(vegaEmbed) {\n",
              "      vegaEmbed(outputDiv, spec, embedOpt)\n",
              "        .catch(err => showError(`Javascript Error: ${err.message}<br>This usually means there's a typo in your chart specification. See the javascript console for the full traceback.`));\n",
              "    }\n",
              "\n",
              "    if(typeof define === \"function\" && define.amd) {\n",
              "      requirejs.config({paths});\n",
              "      require([\"vega-embed\"], displayChart, err => showError(`Error loading script: ${err.message}`));\n",
              "    } else {\n",
              "      maybeLoadScript(\"vega\", \"5\")\n",
              "        .then(() => maybeLoadScript(\"vega-lite\", \"5.17.0\"))\n",
              "        .then(() => maybeLoadScript(\"vega-embed\", \"6\"))\n",
              "        .catch(showError)\n",
              "        .then(() => displayChart(vegaEmbed));\n",
              "    }\n",
              "  })({\"config\": {\"view\": {\"continuousWidth\": 300, \"continuousHeight\": 300}}, \"layer\": [{\"mark\": {\"type\": \"circle\", \"color\": \"crimson\", \"size\": 200, \"stroke\": \"white\", \"strokeWidth\": 1}, \"encoding\": {\"x\": {\"field\": \"x\", \"scale\": {\"zero\": false}, \"type\": \"quantitative\"}, \"y\": {\"field\": \"y\", \"scale\": {\"zero\": false}, \"type\": \"quantitative\"}}}, {\"mark\": {\"type\": \"text\", \"align\": \"left\", \"baseline\": \"bottom\", \"dx\": 5, \"fontSize\": 13}, \"encoding\": {\"text\": {\"field\": \"text\", \"type\": \"nominal\"}, \"x\": {\"field\": \"x\", \"scale\": {\"zero\": false}, \"type\": \"quantitative\"}, \"y\": {\"field\": \"y\", \"scale\": {\"zero\": false}, \"type\": \"quantitative\"}}}], \"data\": {\"name\": \"data-078a03ebc2497f2b3175c9eb1f155c2a\"}, \"height\": 300, \"width\": 400, \"$schema\": \"https://vega.github.io/schema/vega-lite/v5.17.0.json\", \"datasets\": {\"data-078a03ebc2497f2b3175c9eb1f155c2a\": [{\"text\": \"q: protein\", \"x\": 0.38413530588150024, \"y\": -0.10203102231025696}, {\"text\": \"q: summit\", \"x\": -0.2865610122680664, \"y\": -0.2563272714614868}, {\"text\": \"p: protein guide\", \"x\": 0.40233829617500305, \"y\": -0.1747397631406784}, {\"text\": \"p: summit def\", \"x\": -0.29610657691955566, \"y\": -0.2963244616985321}, {\"text\": \"p: penzanse\", \"x\": -0.047134093940258026, \"y\": 0.20752641558647156}, {\"text\": \"p: dec of ind\", \"x\": -0.14978566765785217, \"y\": 0.2633645832538605}, {\"text\": \"p: austen\", \"x\": -0.00688639422878623, \"y\": 0.3585311770439148}]}}, {\"mode\": \"vega-lite\"});\n",
              "</script>"
            ],
            "text/plain": [
              "alt.LayerChart(...)"
            ]
          },
          "execution_count": 11,
          "metadata": {},
          "output_type": "execute_result"
        }
      ],
      "source": [
        "## using e5_model previously loaded\n",
        "input_texts = [\n",
        "    'query: how much protein should a female human eat',\n",
        "    'query: summit define',\n",
        "    \"passage: As a general guideline, the CDC's average requirement of protein for women ages 19 to 70 is 46 grams per day. But, as you can see from this chart, you'll need to increase that if you're expecting or training for a marathon. Check out the chart below to see how much protein you should be eating each day.\",\n",
        "    \"passage: Definition of summit for English Language Learners. : 1  the highest point of a mountain : the top of a mountain. : 2  the highest level. : 3  a meeting or series of meetings between the leaders of two or more governments.\",\n",
        "    \"passage: I am the very model of a modern Major-General / I've information vegetable, animal, and mineral / I know the kings of England, and I quote the fights historical / From Marathon to Waterloo, in order categorical / I'm very well acquainted, too, with matters mathematical\",\n",
        "    \"passage: When, in the course of human events, it becomes necessary for one people to dissolve the political bands which have connected them with another, and to assume, among the powers of the earth\",\n",
        "    \"passage: It is a truth universally acknowledged, that a single man in possession of a good fortune, must be in want of a wife.\",\n",
        "]\n",
        "embeddings = e5_model.encode(input_texts, normalize_embeddings=True)\n",
        "\n",
        "\n",
        "# let's see what we got, though truncate the embeddings to just the first 5 dimensions\n",
        "print(f\"embedding dimensions: {embeddings[0].size}\")\n",
        "print(f\"first query: {list(embeddings[0])[:3] + ['...']}\")\n",
        "\n",
        "\n",
        "# wrap embeddings with a DataFrame\n",
        "df = pd.DataFrame(\n",
        "    [\n",
        "      [embeddings[0]],\n",
        "      [embeddings[1]],\n",
        "      [embeddings[2]],\n",
        "      [embeddings[3]],\n",
        "      [embeddings[4]],\n",
        "      [embeddings[5]],\n",
        "      [embeddings[6]],\n",
        "    ],\n",
        "    index=[\n",
        "        \"q: protein\",\n",
        "        \"q: summit\",\n",
        "        \"p: protein guide\",\n",
        "        \"p: summit def\",\n",
        "        \"p: penzanse\",\n",
        "        \"p: dec of ind\",\n",
        "        \"p: austen\"\n",
        "        ], columns=[\"embeddings\"]\n",
        ")\n",
        "\n",
        "# Initialize the PCA reducer to convert embeddings into arrays of length of 2\n",
        "reducer = PCA(n_components=2)\n",
        "\n",
        "# Reduce the embeddings, store them in a new dataframe column and display their shape\n",
        "df[\"reduced\"] = reducer.fit_transform(np.stack(df[\"embeddings\"])).tolist()\n",
        "\n",
        "source = pd.DataFrame(\n",
        "    {\n",
        "        \"text\": df.index,\n",
        "        \"x\": df[\"reduced\"].apply(lambda x: x[0]).to_list(),\n",
        "        \"y\": df[\"reduced\"].apply(lambda x: x[1]).to_list(),\n",
        "    }\n",
        ")\n",
        "\n",
        "scatterplot(source, labels=True,  width=400, height=300)"
      ]
    },
    {
      "cell_type": "markdown",
      "metadata": {
        "id": "738GN3qE2lM8"
      },
      "source": [
        "## Step 6 : calculate the actual distance in 1024 dimensional space"
      ]
    },
    {
      "cell_type": "code",
      "execution_count": 12,
      "metadata": {
        "id": "QKAT1UBAzZfq"
      },
      "outputs": [
        {
          "name": "stdout",
          "output_type": "stream",
          "text": [
            "passage: As a general guideline, the CDC - Cosine distance 0.098010155499\n",
            "passage: I am the very model of a modern - Cosine distance 0.270884134498\n",
            "passage: It is a truth universally ackno - Cosine distance 0.281220555305\n",
            "passage: When, in the course of human ev - Cosine distance 0.291792273521\n",
            "passage: Definition of summit for Englis - Cosine distance 0.306163829198\n"
          ]
        }
      ],
      "source": [
        "from scipy.spatial import distance\n",
        "\n",
        "passages = [\n",
        "    \"passage: As a general guideline, the CDC's average requirement of protein for women ages 19 to 70 is 46 grams per day. But, as you can see from this chart, you'll need to increase that if you're expecting or training for a marathon. Check out the chart below to see how much protein you should be eating each day.\",\n",
        "    \"passage: Definition of summit for English Language Learners. : 1  the highest point of a mountain : the top of a mountain. : 2  the highest level. : 3  a meeting or series of meetings between the leaders of two or more governments.\",\n",
        "    \"passage: I am the very model of a modern Major-General / I've information vegetable, animal, and mineral / I know the kings of England, and I quote the fights historical / From Marathon to Waterloo, in order categorical / I'm very well acquainted, too, with matters mathematical\",\n",
        "    \"passage: When, in the course of human events, it becomes necessary for one people to dissolve the political bands which have connected them with another, and to assume, among the powers of the earth\",\n",
        "    \"passage: It is a truth universally acknowledged, that a single man in possession of a good fortune, must be in want of a wife.\",\n",
        "]\n",
        "\n",
        "def chunks_by_distance(passages, query_text, model):\n",
        "  embeddings = model.encode(passages, normalize_embeddings=True)\n",
        "  query_embedding = model.encode(query_text, normalize_embeddings=True)\n",
        "  distances = []\n",
        "  for index, passage in enumerate(passages):\n",
        "    cos_distance = distance.cosine(embeddings[index], query_embedding)\n",
        "    distances.append((passage, cos_distance))\n",
        "  sorted_passages = sorted(distances, key=lambda x: x[1])\n",
        "\n",
        "  return sorted_passages\n",
        "\n",
        "protein_query = 'query: how much protein should a female human eat'\n",
        "sorted_passages = chunks_by_distance(passages, protein_query, e5_model)\n",
        "\n",
        "for passage, dist in sorted_passages:\n",
        "      print(f\"{passage[:40]} - Cosine distance {dist:.12f}\")\n"
      ]
    },
    {
      "cell_type": "markdown",
      "metadata": {
        "id": "fTRQlTcO_jC4"
      },
      "source": [
        "## OKAY let's work with an actual large document"
      ]
    },
    {
      "cell_type": "code",
      "execution_count": 13,
      "metadata": {
        "id": "oxo004rhYcDH"
      },
      "outputs": [],
      "source": [
        "wikipedia_spacecraft = [\n",
        "{\n",
        "  \"id\": \"37910\",\n",
        "  \"title\": \"Spacecraft\",\n",
        "  \"text\": \"A spacecraft is a vehicle that is designed to fly in outer space. A type of artificial satellite, spacecraft are used for a variety of purposes, including communications, Earth observation, meteorology, navigation, space colonization, planetary exploration, and transportation of humans and cargo. All spacecraft except single-stage-to-orbit vehicles cannot get into space on their own, and require a launch vehicle (carrier rocket). On a sub-orbital spaceflight, a space vehicle enters space and then returns to the surface without having gained sufficient energy or velocity to make a full Earth orbit. For orbital spaceflights, spacecraft enter closed orbits around the Earth or around other celestial bodies. Spacecraft used for human spaceflight carry people on board as crew or passengers from start or on orbit (space stations) only, whereas those used for robotic space missions operate either autonomously or telerobotically. Robotic spacecraft used to support scientific research are space probes. Robotic spacecraft that remain in orbit around a planetary body are artificial satellites. To date, only a handful of interstellar probes, such as Pioneer 10 and 11, Voyager 1 and 2, and New Horizons, are on trajectories that leave the Solar System. Orbital spacecraft may be recoverable or not. Most are not. Recoverable spacecraft may be subdivided by a method of reentry to Earth into non-winged space capsules and winged spaceplanes. Recoverable spacecraft may be reusable (can be launched again or several times, like the SpaceX Dragon and the Space Shuttle orbiters) or expendable (like the Soyuz). In recent years, more space agencies are tending towards reusable spacecraft. Humanity has achieved space flight, but only a few nations have the technology for orbital launches: Russia (RSA or \\\"Roscosmos\\\"), the United States (NASA), the member states of the European Space Agency (ESA), Japan (JAXA), China (CNSA), India (ISRO), Taiwan National Chung-Shan Institute of Science and Technology, Taiwan National Space Organization (NSPO), Israel (ISA), Iran (ISA), and North Korea (NADA). In addition, several private companies have developed or are developing the technology for orbital launches independently from government agencies. The most prominent examples of such companies are SpaceX and Blue Origin. ==History== A German V-2 became the first spacecraft when it reached an altitude of 189 km in June 1944 in Peenemünde, Germany.Peenemünde (Dokumentation) Berlin: Moewig, 1984.. Sputnik 1 was the first artificial satellite. It was launched into an elliptical low Earth orbit (LEO) by the Soviet Union on 4 October 1957. The launch ushered in new political, military, technological, and scientific developments; while the Sputnik launch was a single event, it marked the start of the Space Age.Dougall, Walter A. (Winter 2010) \\\"Shooting the duck\\\", American Heritage Apart from its value as a technological first, Sputnik 1 also helped to identify the upper atmospheric layer's density, by measuring the satellite's orbital changes. It also provided data on radio-signal distribution in the ionosphere. Pressurized nitrogen in the satellite's false body provided the first opportunity for meteoroid detection. Sputnik 1 was launched during the International Geophysical Year from Site No.1/5, at the 5th Tyuratam range, in Kazakh SSR (now at the Baikonur Cosmodrome). The satellite travelled at , taking 96.2 minutes to complete an orbit, and emitted radio signals at 20.005 and 40.002 MHz While Sputnik 1 was the first spacecraft to orbit the Earth, other human- made objects had previously reached an altitude of 100 km, which is the height required by the international organization Fédération Aéronautique Internationale to count as a spaceflight. This altitude is called the Kármán line. In particular, in the 1940s there were several test launches of the V-2 rocket, some of which reached altitudes well over 100 km. ==Spacecraft types== ===Crewed spacecraft=== thumb|Apollo 17 command module in Lunar orbit As of 2016, only three nations have flown crewed spacecraft: USSR/Russia, USA, and China. The first crewed spacecraft was Vostok 1, which carried Soviet cosmonaut Yuri Gagarin into space in 1961, and completed a full Earth orbit. There were five other crewed missions which used a Vostok spacecraft. The second crewed spacecraft was named Freedom 7, and it performed a sub-orbital spaceflight in 1961 carrying American astronaut Alan Shepard to an altitude of just over . There were five other crewed missions using Mercury spacecraft. Other Soviet crewed spacecraft include the Voskhod, Soyuz, flown uncrewed as Zond/L1, L3, TKS, and the Salyut and Mir crewed space stations. Other American crewed spacecraft include the Gemini spacecraft, the Apollo spacecraft including the Apollo Lunar Module, the Skylab space station, the Space Shuttle with undetached European Spacelab and private US Spacehab space stations- modules, and the SpaceX Crew Dragon configuration of their Dragon 2. US company Boeing also developed and flown a spacecraft of their own, the CST-100, commonly referred to as Starliner, but a crewed flight is yet to occur. China developed, but did not fly Shuguang, and is currently using Shenzhou (its first crewed mission was in 2003). Except for the Space Shuttle, all of the recoverable crewed orbital spacecraft were space capsules. File:NASA spacecraft comparison.jpg|alt=Drawings of Mercury, Gemini capsules and Apollo spacecraft, with their launch vehicles|American Mercury, Gemini, and Apollo spacecraft File:Vostok Spacecraft Diagram.svg|Soviet Vostok capsule File:Voskhod 1 and 2.svg|alt=Line drawing of Voskhod capsules|Soviet Voskhod (variant of Vostok) File:Soyuz 7K-OK(A) drawing.svg|alt=Soyuz 7K-OK(A) drawing|1967 Soviet/Russian Soyuz spacecraft File:Post S-7 Shenzhou spacecraft.png|alt=Drawing of Shenzhou spacecraft|Chinese Shenzhou spacecraft The International Space Station, crewed since November 2000, is a joint venture between Russia, the United States, Canada and several other countries. ====Spaceplanes==== thumb|Columbia orbiter landing Spaceplanes are spacecraft that are built in the shape of, and function as, airplanes. The first example of such was the North American X-15 spaceplane, which conducted two crewed flights which reached an altitude of over 100 km in the 1960s. This first reusable spacecraft was air-launched on a suborbital trajectory on July 19, 1963. The first partially reusable orbital spacecraft, a winged non-capsule, the Space Shuttle, was launched by the USA on the 20th anniversary of Yuri Gagarin's flight, on April 12, 1981. During the Shuttle era, six orbiters were built, all of which have flown in the atmosphere and five of which have flown in space. Enterprise was used only for approach and landing tests, launching from the back of a Boeing 747 SCA and gliding to deadstick landings at Edwards AFB, California. The first Space Shuttle to fly into space was Columbia, followed by Challenger, Discovery, Atlantis, and Endeavour. Endeavour was built to replace Challenger when it was lost in January 1986. Columbia broke up during reentry in February 2003. The first automatic partially reusable spacecraft was the Buran-class shuttle, launched by the USSR on November 15, 1988, although it made only one flight and this was uncrewed. This spaceplane was designed for a crew and strongly resembled the U.S. Space Shuttle, although its drop-off boosters used liquid propellants and its main engines were located at the base of what would be the external tank in the American Shuttle. Lack of funding, complicated by the dissolution of the USSR, prevented any further flights of Buran. The Space Shuttle was subsequently modified to allow for autonomous re-entry in case of necessity. Per the Vision for Space Exploration, the Space Shuttle was retired in 2011 mainly due to its old age and high cost of program reaching over a billion dollars per flight. The Shuttle's human transport role is to be replaced by SpaceX's SpaceX Dragon 2 and Boeing's CST-100 Starliner. Dragon 2's first crewed flight occurred on May 30, 2020. The Shuttle's heavy cargo transport role is to be replaced by expendable rockets such as the Space Launch System and ULA's Vulcan rocket, as well as the commercial launch vehicles. Scaled Composites' SpaceShipOne was a reusable suborbital spaceplane that carried pilots Mike Melvill and Brian Binnie on consecutive flights in 2004 to win the Ansari X Prize. The Spaceship Company will build its successor SpaceShipTwo. A fleet of SpaceShipTwos operated by Virgin Galactic was planned to begin reusable private spaceflight carrying paying passengers in 2014, but was delayed after the crash of VSS Enterprise. ===Uncrewed spacecraft=== Uncrewed spacecraft are spacecraft without people on board. Uncrewed spacecraft may have varying levels of autonomy from human input; they may be remote controlled, remote guided or even autonomous, meaning they have a pre-programmed list of operations, which they will execute unless otherwise instructed. Many space missions are more suited to telerobotic rather than crewed operation, due to lower cost and lower risk factors. In addition, some planetary destinations such as Venus or the vicinity of Jupiter are too hostile for human survival. Outer planets such as Saturn, Uranus, and Neptune are too distant to reach with current crewed spaceflight technology, so telerobotic probes are the only way to explore them. Telerobotics also allows exploration of regions that are vulnerable to contamination by Earth micro-organisms since spacecraft can be sterilized. Humans can not be sterilized in the same way as a spaceship, as they coexist with numerous micro-organisms, and these micro-organisms are also hard to contain within a spaceship or spacesuit. Multiple space probes were sent to study Moon, the planets, the Sun, multiple small Solar System bodies (comets and asteroids). Special class of uncrewed spacecraft is space telescopes, a telescope in outer space used to observe astronomical objects. The first operational telescopes were the American Orbiting Astronomical Observatory, OAO-2 launched in 1968, and the Soviet Orion 1 ultraviolet telescope aboard space station Salyut 1 in 1971. Space telescopes avoid the filtering and distortion (scintillation) of electromagnetic radiation which they observe, and avoid light pollution which ground-based observatories encounter. The best-known examples are Hubble Space Telescope and James Webb Space Telescope. Cargo spacecraft are designed to carry cargo, possibly to support space stations' operation by transporting food, propellant and other supplies. Automated cargo spacecraft have been used since 1978 and have serviced Salyut 6, Salyut 7, Mir, the International Space Station and Tiangong space station. ====Fastest spacecraft==== *Parker Solar Probe (estimated at first sun close pass, will reach at final perihelion) *Helios I and II Solar Probes () ==== Furthest spacecraft from the Sun ==== * Voyager 1 at 156.13 AU as of April 2022, traveling outward at about * Pioneer 10 at 122.48 AU as of December 2018, traveling outward at about *Voyager 2 at 122.82 AU as of January 2020, traveling outward at about *Pioneer 11 at 101.17 AU as of December 2018, traveling outward at about ==Subsystems== A spacecraft astrionics system comprises different subsystems, depending on the mission profile. Spacecraft subsystems comprise the spacecraft's bus and may include attitude determination and control (variously called ADAC, ADC, or ACS), guidance, navigation and control (GNC or GN&C;), communications (comms), command and data handling (CDH or C&DH;), power (EPS), thermal control (TCS), propulsion, and structures. Attached to the bus are typically payloads. ; Life support : Spacecraft intended for human spaceflight must also include a life support system for the crew. ; Attitude control : A Spacecraft needs an attitude control subsystem to be correctly oriented in space and respond to external torques and forces properly. The attitude control subsystem consists of sensors and actuators, together with controlling algorithms. The attitude- control subsystem permits proper pointing for the science objective, sun pointing for power to the solar arrays and earth pointing for communications. ; GNC : Guidance refers to the calculation of the commands (usually done by the CDH subsystem) needed to steer the spacecraft where it is desired to be. Navigation means determining a spacecraft's orbital elements or position. Control means adjusting the path of the spacecraft to meet mission requirements. ; Command and data handling : The C&DH; subsystem receives commands from the communications subsystem, performs validation and decoding of the commands, and distributes the commands to the appropriate spacecraft subsystems and components. The CDH also receives housekeeping data and science data from the other spacecraft subsystems and components, and packages the data for storage on a data recorder or transmission to the ground via the communications subsystem. Other functions of the CDH include maintaining the spacecraft clock and state-of-health monitoring. ; Communications : Spacecraft, both robotic and crewed, have various communications systems for communication with terrestrial stations and for inter-satellite service. Technologies include space radio station and optical communication. In addition, some spacecraft payloads are explicitly for the purpose of ground–ground communication using receiver/retransmitter electronic technologies. ; Power : Spacecraft need an electrical power generation and distribution subsystem for powering the various spacecraft subsystems. For spacecraft near the Sun, solar panels are frequently used to generate electrical power. Spacecraft designed to operate in more distant locations, for example Jupiter, might employ a radioisotope thermoelectric generator (RTG) to generate electrical power. Electrical power is sent through power conditioning equipment before it passes through a power distribution unit over an electrical bus to other spacecraft components. Batteries are typically connected to the bus via a battery charge regulator, and the batteries are used to provide electrical power during periods when primary power is not available, for example when a low Earth orbit spacecraft is eclipsed by Earth. ; Thermal control : Spacecraft must be engineered to withstand transit through Earth's atmosphere and the space environment. They must operate in a vacuum with temperatures potentially ranging across hundreds of degrees Celsius as well as (if subject to reentry) in the presence of plasmas. Material requirements are such that either high melting temperature, low density materials such as beryllium and reinforced carbon–carbon or (possibly due to the lower thickness requirements despite its high density) tungsten or ablative carbon–carbon composites are used. Depending on mission profile, spacecraft may also need to operate on the surface of another planetary body. The thermal control subsystem can be passive, dependent on the selection of materials with specific radiative properties. Active thermal control makes use of electrical heaters and certain actuators such as louvers to control temperature ranges of equipments within specific ranges. ; Spacecraft propulsion : Spacecraft may or may not have a propulsion subsystem, depending on whether or not the mission profile calls for propulsion. The Swift spacecraft is an example of a spacecraft that does not have a propulsion subsystem. Typically though, LEO spacecraft include a propulsion subsystem for altitude adjustments (drag make-up maneuvers) and inclination adjustment maneuvers. A propulsion system is also needed for spacecraft that perform momentum management maneuvers. Components of a conventional propulsion subsystem include fuel, tankage, valves, pipes, and thrusters. The thermal control system interfaces with the propulsion subsystem by monitoring the temperature of those components, and by preheating tanks and thrusters in preparation for a spacecraft maneuver. ; Structures : Spacecraft must be engineered to withstand launch loads imparted by the launch vehicle, and must have a point of attachment for all the other subsystems. Depending on mission profile, the structural subsystem might need to withstand loads imparted by entry into the atmosphere of another planetary body, and landing on the surface of another planetary body. ; Payload : The payload depends on the mission of the spacecraft, and is typically regarded as the part of the spacecraft \\\"that pays the bills\\\". Typical payloads could include scientific instruments (cameras, telescopes, or particle detectors, for example), cargo, or a human crew. ; Ground segment : The ground segment, though not technically part of the spacecraft, is vital to the operation of the spacecraft. Typical components of a ground segment in use during normal operations include a mission operations facility where the flight operations team conducts the operations of the spacecraft, a data processing and storage facility, ground stations to radiate signals to and receive signals from the spacecraft, and a voice and data communications network to connect all mission elements. ; Launch vehicle : The launch vehicle propels the spacecraft from Earth's surface, through the atmosphere, and into an orbit, the exact orbit being dependent on the mission configuration. The launch vehicle may be expendable or reusable. ==See also== *Astrionics *Commercial astronaut *Flying saucer *List of crewed spacecraft *List of fictional spacecraft *NewSpace *Spacecraft design *Space exploration *Space launch *Spaceships in science fiction *Space suit *Spaceflight records *Starship *Timeline of Solar System exploration *U.S. Space Exploration History on U.S. Stamps == References == === Citations === === Sources === * * ==External links== *NASA: Space Science Spacecraft Missions *NSSDC Master Catalog Spacecraft Query Form *Early History of Spacecraft *Basics of Spaceflight tutorial from JPL/Caltech *International Spaceflight Museum Category:Astronautics Category:Pressure vessels\",\n",
        "  \"categories\": [\n",
        "    \"Astronautics\",\n",
        "    \"Pressure vessels\"\n",
        "  ]\n",
        "},\n",
        " ]"
      ]
    },
    {
      "cell_type": "markdown",
      "metadata": {
        "id": "0dwj-z5z7tnu"
      },
      "source": [
        "## Step 7: Truncation is a problem for long texts\n",
        "\n",
        "The semantic relevance will be low because most of the text is ignored in the vector computation."
      ]
    },
    {
      "cell_type": "code",
      "execution_count": 15,
      "metadata": {
        "id": "xUYUyZ4G3-ns"
      },
      "outputs": [
        {
          "name": "stderr",
          "output_type": "stream",
          "text": [
            "Token indices sequence length is longer than the specified maximum sequence length for this model (3791 > 512). Running this sequence through the model will result in indexing errors\n"
          ]
        },
        {
          "name": "stdout",
          "output_type": "stream",
          "text": [
            "text tokens 3791 | model max sequence length 512\n",
            "❗❗ The text will be truncated.❗❗\n"
          ]
        }
      ],
      "source": [
        "text =        wikipedia_spacecraft[0][\"text\"]\n",
        "embeddings =  e5_model.encode(text, normalize_embeddings=True)\n",
        "\n",
        "tokenized_text =        e5_model.tokenizer(text)[\"input_ids\"]\n",
        "model_max_seq_length =  e5_model.get_max_seq_length()\n",
        "text_token_count =      len(tokenized_text)\n",
        "\n",
        "print(f\"text tokens {text_token_count} | model max sequence length {model_max_seq_length}\")\n",
        "\n",
        "if text_token_count > model_max_seq_length:\n",
        "    print(f\"❗❗ The text will be truncated.❗❗\")\n",
        "else:\n",
        "    print(f\"The text will not be truncated.\")"
      ]
    },
    {
      "cell_type": "markdown",
      "metadata": {
        "id": "g0e_QS-i8rkm"
      },
      "source": [
        "## Step 8: Visualizing Chunking Strategies\n",
        "\n",
        "First some utility libraries"
      ]
    },
    {
      "cell_type": "code",
      "execution_count": 16,
      "metadata": {
        "id": "OSMKdU-d8yzw"
      },
      "outputs": [],
      "source": [
        "# Import Libraries\n",
        "import os\n",
        "import json\n",
        "import textwrap\n",
        "from pprint import pprint\n",
        "from bs4 import BeautifulSoup\n",
        "from IPython.display import HTML\n",
        "#from elasticsearch import Elasticsearch, helpers\n",
        "from langchain.text_splitter import RecursiveCharacterTextSplitter, \\\n",
        "  SentenceTransformersTokenTextSplitter, \\\n",
        "  CharacterTextSplitter, \\\n",
        "  TextSplitter\n",
        "\n",
        "## Process splitting and display\n",
        "def split_and_print(documents, splitter, ret=False):\n",
        "    es_docs = []\n",
        "    for doc in documents:\n",
        "        passages = []\n",
        "\n",
        "        for chunk in splitter.split_text(doc['text']):\n",
        "            passages.append({\n",
        "                \"text\": chunk,\n",
        "            })\n",
        "        es_docs.append(passages)\n",
        "\n",
        "    print(f'Number of chunks: {len(passages)}' + '\\n')\n",
        "    display(HTML(process_chunks(passages)))\n",
        "    if ret:\n",
        "      return passages\n",
        "    else:\n",
        "      return False\n",
        "\n",
        "\n",
        "## Character Splitter\n",
        "def split_by_recursive_char(documents,\n",
        "                  chunk_size: int = 200,\n",
        "                  chunk_overlap: int = 0\n",
        "                  ):\n",
        "    '''Chunking by character count'''\n",
        "\n",
        "    text_splitter = RecursiveCharacterTextSplitter(\n",
        "        chunk_size=chunk_size,\n",
        "        chunk_overlap=chunk_overlap,\n",
        "        length_function=len,\n",
        "        is_separator_regex=False,\n",
        "    )\n",
        "    split_and_print(documents, text_splitter)\n",
        "\n",
        "\n",
        "def split_by_text(documents,\n",
        "                  chunk_size: int = 200,\n",
        "                  chunk_overlap: int = 0\n",
        "                  ):\n",
        "    '''Chunking by character count'''\n",
        "\n",
        "    text_splitter = CharacterTextSplitter(\n",
        "        chunk_size=chunk_size,\n",
        "        chunk_overlap=chunk_overlap,\n",
        "        length_function=len,\n",
        "        is_separator_regex=False,\n",
        "    )\n",
        "    r = split_and_print(documents, text_splitter)\n",
        "\n",
        "\n",
        "\n",
        "## Token Splitter\n",
        "def split_by_token(documents,\n",
        "                  tokens_per_chunk: int = 2,\n",
        "                  chunk_overlap: int = 0,\n",
        "                  ret=False\n",
        "                 ):\n",
        "    '''Chunking by BERT Transformer Tokens'''\n",
        "\n",
        "    text_splitter = SentenceTransformersTokenTextSplitter(\n",
        "        tokens_per_chunk=tokens_per_chunk,\n",
        "        chunk_overlap=chunk_overlap,\n",
        "        model_name='intfloat/e5-large-v2' # 512 token input limit\n",
        "    )\n",
        "    r = split_and_print(documents, text_splitter, ret=ret)\n",
        "    if ret:\n",
        "      return r\n",
        "\n",
        "\n",
        "\n",
        "\n",
        "## Printing and Highlighting functions ##\n",
        "\n",
        "color_list = [\n",
        "    \"yellow\",\n",
        "    \"red\",\n",
        "    \"lightgreen\",\n",
        "    \"lightblue\",\n",
        "    \"lightpink\",\n",
        "    \"#F0A3FF\",  # Vivid orchid\n",
        "    \"#0075DC\",  # Blue ribbon\n",
        "    \"#2BCE48\",  # Slimy green\n",
        "    \"#FFCC99\",  # Peach-orange\n",
        "    \"#94FFB5\",  # Mint green\n",
        "\n",
        "]\n",
        "\n",
        "def find_overlap(text1, text2):\n",
        "    min_len = min(len(text1), len(text2))\n",
        "    for i in range(min_len, 0, -1):\n",
        "        if text1[-i:] == text2[:i]:\n",
        "            return text1[-i:]\n",
        "    return ''\n",
        "\n",
        "###################################################################################\n",
        "# Highted text -> White\n",
        "# Normal text -> Black\n",
        "\n",
        "### Uncomment these 3 functions if you are running in light mode\n",
        "\n",
        "# def highlight_first_occurrence(text, substring, color):\n",
        "#     index = text.find(substring)\n",
        "#     if index != -1:\n",
        "#         return (text[:index] +\n",
        "#                 f\"<span style='background-color: {color};'>{text[index:index+len(substring)]}</span>\" +\n",
        "#                 text[index+len(substring):])\n",
        "#     return text\n",
        "\n",
        "# def highlight_last_occurrence(text, substring, color):\n",
        "#     index = text.rfind(substring)\n",
        "#     if index != -1:\n",
        "#         return (text[:index] +\n",
        "#                 f\"<span style='background-color: {color};'>{text[index:index+len(substring)]}</span>\" +\n",
        "#                 text[index+len(substring):])\n",
        "#     return text\n",
        "\n",
        "# def process_chunks(chunks, colors=color_list):\n",
        "#     html_output = \"\"\n",
        "#     for i in range(len(chunks) - 1):\n",
        "#         overlap = find_overlap(chunks[i][\"text\"], chunks[i + 1][\"text\"])\n",
        "#         color = colors[i % len(colors)]  # Cycle through the provided colors\n",
        "#         if overlap:\n",
        "#             chunks[i][\"text\"] = highlight_last_occurrence(chunks[i][\"text\"], overlap, color)\n",
        "#             chunks[i + 1][\"text\"] = highlight_first_occurrence(chunks[i + 1][\"text\"], overlap, color)\n",
        "#         html_output += chunks[i][\"text\"] + \"<br><br>\"\n",
        "#     html_output += chunks[-1][\"text\"]  # Add the last chunk\n",
        "#     return html_output\n",
        "\n",
        "###################################################################################\n",
        "# Highted text -> Black\n",
        "# Normal text -> White\n",
        "\n",
        "### Comment out these 3 functions if running in light modes\n",
        "\n",
        "def highlight_first_occurrence(text, substring, color):\n",
        "    index = text.find(substring)\n",
        "    if index != -1:\n",
        "        return (text[:index] +\n",
        "                f\"<span style='background-color: {color}; color: black;'>{text[index:index+len(substring)]}</span>\" +\n",
        "                text[index+len(substring):])\n",
        "    return text\n",
        "\n",
        "def highlight_last_occurrence(text, substring, color):\n",
        "    index = text.rfind(substring)\n",
        "    if index != -1:\n",
        "        return (text[:index] +\n",
        "                f\"<span style='background-color: {color}; color: black;'>{text[index:index+len(substring)]}</span>\" +\n",
        "                text[index+len(substring):])\n",
        "    return text\n",
        "\n",
        "\n",
        "chunk_max_display = 10\n",
        "\n",
        "def process_chunks(chunks, colors=color_list):\n",
        "    html_output = \"\"\n",
        "    for i in range(min(chunk_max_display -1,len(chunks) - 1)):\n",
        "        overlap = find_overlap(chunks[i][\"text\"], chunks[i + 1][\"text\"])\n",
        "        color = colors[i % len(colors)]  # Cycle through the provided colors\n",
        "        if overlap:\n",
        "            chunks[i][\"text\"] = highlight_last_occurrence(chunks[i][\"text\"], overlap, color)\n",
        "            chunks[i + 1][\"text\"] = highlight_first_occurrence(chunks[i + 1][\"text\"], overlap, color)\n",
        "        # Wrap each chunk of text in a span with white text color\n",
        "        html_output += f\"<span style='color: gray;'>{chunks[i]['text']}</span><br><br>\"\n",
        "    # Add the last chunk with white text color\n",
        "    html_output += f\"<span style='color: gray;'>{chunks[-1]['text']}</span>\"\n",
        "    html_output += f\"<br/><br/><span style='color: gray;'>... additional chunks omitted</span>\"\n",
        "    return html_output"
      ]
    },
    {
      "cell_type": "markdown",
      "metadata": {
        "id": "TZbfLoQhRFXy"
      },
      "source": [
        "## Step 9: Three Chunking Strategies\n",
        "\n",
        "[LangChain recursive character text splitter](https://python.langchain.com/docs/modules/data_connection/document_transformers/recursive_text_splitter)\n",
        "\n",
        "[LangChain splitting by tokens](https://python.langchain.com/docs/modules/data_connection/document_transformers/split_by_token)"
      ]
    },
    {
      "cell_type": "code",
      "execution_count": 17,
      "metadata": {
        "id": "b0ClYN7K9NF6"
      },
      "outputs": [
        {
          "name": "stdout",
          "output_type": "stream",
          "text": [
            "Number of chunks: 18\n",
            "\n"
          ]
        },
        {
          "data": {
            "text/html": [
              "<span style='color: gray;'>A spacecraft is a vehicle that is designed to fly in outer space. A type of artificial satellite, spacecraft are used for a variety of purposes, including communications, Earth observation, meteorology, navigation, space colonization, planetary exploration, and transportation of humans and cargo. All spacecraft except single-stage-to-orbit vehicles cannot get into space on their own, and require a launch vehicle (carrier rocket). On a sub-orbital spaceflight, a space vehicle enters space and then returns to the surface without having gained sufficient energy or velocity to make a full Earth orbit. For orbital spaceflights, spacecraft enter closed orbits around the Earth or around other celestial bodies. Spacecraft used for human spaceflight carry people on board as crew or passengers from start or on orbit (space stations) only, whereas those used for robotic space missions operate either autonomously or telerobotically. Robotic spacecraft used to support scientific research are space probes. Robotic</span><br><br><span style='color: gray;'>spacecraft that remain in orbit around a planetary body are artificial satellites. To date, only a handful of interstellar probes, such as Pioneer 10 and 11, Voyager 1 and 2, and New Horizons, are on trajectories that leave the Solar System. Orbital spacecraft may be recoverable or not. Most are not. Recoverable spacecraft may be subdivided by a method of reentry to Earth into non-winged space capsules and winged spaceplanes. Recoverable spacecraft may be reusable (can be launched again or several times, like the SpaceX Dragon and the Space Shuttle orbiters) or expendable (like the Soyuz). In recent years, more space agencies are tending towards reusable spacecraft. Humanity has achieved space flight, but only a few nations have the technology for orbital launches: Russia (RSA or \"Roscosmos\"), the United States (NASA), the member states of the European Space Agency (ESA), Japan (JAXA), China (CNSA), India (ISRO), Taiwan National Chung-Shan Institute of Science and Technology, Taiwan National Space</span><br><br><span style='color: gray;'>Organization (NSPO), Israel (ISA), Iran (ISA), and North Korea (NADA). In addition, several private companies have developed or are developing the technology for orbital launches independently from government agencies. The most prominent examples of such companies are SpaceX and Blue Origin. ==History== A German V-2 became the first spacecraft when it reached an altitude of 189 km in June 1944 in Peenemünde, Germany.Peenemünde (Dokumentation) Berlin: Moewig, 1984.. Sputnik 1 was the first artificial satellite. It was launched into an elliptical low Earth orbit (LEO) by the Soviet Union on 4 October 1957. The launch ushered in new political, military, technological, and scientific developments; while the Sputnik launch was a single event, it marked the start of the Space Age.Dougall, Walter A. (Winter 2010) \"Shooting the duck\", American Heritage Apart from its value as a technological first, Sputnik 1 also helped to identify the upper atmospheric layer's density, by measuring the satellite's orbital changes.</span><br><br><span style='color: gray;'>It also provided data on radio-signal distribution in the ionosphere. Pressurized nitrogen in the satellite's false body provided the first opportunity for meteoroid detection. Sputnik 1 was launched during the International Geophysical Year from Site No.1/5, at the 5th Tyuratam range, in Kazakh SSR (now at the Baikonur Cosmodrome). The satellite travelled at , taking 96.2 minutes to complete an orbit, and emitted radio signals at 20.005 and 40.002 MHz While Sputnik 1 was the first spacecraft to orbit the Earth, other human- made objects had previously reached an altitude of 100 km, which is the height required by the international organization Fédération Aéronautique Internationale to count as a spaceflight. This altitude is called the Kármán line. In particular, in the 1940s there were several test launches of the V-2 rocket, some of which reached altitudes well over 100 km. ==Spacecraft types== ===Crewed spacecraft=== thumb|Apollo 17 command module in Lunar orbit As of 2016, only three nations have flown</span><br><br><span style='color: gray;'>crewed spacecraft: USSR/Russia, USA, and China. The first crewed spacecraft was Vostok 1, which carried Soviet cosmonaut Yuri Gagarin into space in 1961, and completed a full Earth orbit. There were five other crewed missions which used a Vostok spacecraft. The second crewed spacecraft was named Freedom 7, and it performed a sub-orbital spaceflight in 1961 carrying American astronaut Alan Shepard to an altitude of just over . There were five other crewed missions using Mercury spacecraft. Other Soviet crewed spacecraft include the Voskhod, Soyuz, flown uncrewed as Zond/L1, L3, TKS, and the Salyut and Mir crewed space stations. Other American crewed spacecraft include the Gemini spacecraft, the Apollo spacecraft including the Apollo Lunar Module, the Skylab space station, the Space Shuttle with undetached European Spacelab and private US Spacehab space stations- modules, and the SpaceX Crew Dragon configuration of their Dragon 2. US company Boeing also developed and flown a spacecraft of their own, the</span><br><br><span style='color: gray;'>CST-100, commonly referred to as Starliner, but a crewed flight is yet to occur. China developed, but did not fly Shuguang, and is currently using Shenzhou (its first crewed mission was in 2003). Except for the Space Shuttle, all of the recoverable crewed orbital spacecraft were space capsules. File:NASA spacecraft comparison.jpg|alt=Drawings of Mercury, Gemini capsules and Apollo spacecraft, with their launch vehicles|American Mercury, Gemini, and Apollo spacecraft File:Vostok Spacecraft Diagram.svg|Soviet Vostok capsule File:Voskhod 1 and 2.svg|alt=Line drawing of Voskhod capsules|Soviet Voskhod (variant of Vostok) File:Soyuz 7K-OK(A) drawing.svg|alt=Soyuz 7K-OK(A) drawing|1967 Soviet/Russian Soyuz spacecraft File:Post S-7 Shenzhou spacecraft.png|alt=Drawing of Shenzhou spacecraft|Chinese Shenzhou spacecraft The International Space Station, crewed since November 2000, is a joint venture between Russia, the United States, Canada and several other countries. ====Spaceplanes==== thumb|Columbia orbiter landing</span><br><br><span style='color: gray;'>Spaceplanes are spacecraft that are built in the shape of, and function as, airplanes. The first example of such was the North American X-15 spaceplane, which conducted two crewed flights which reached an altitude of over 100 km in the 1960s. This first reusable spacecraft was air-launched on a suborbital trajectory on July 19, 1963. The first partially reusable orbital spacecraft, a winged non-capsule, the Space Shuttle, was launched by the USA on the 20th anniversary of Yuri Gagarin's flight, on April 12, 1981. During the Shuttle era, six orbiters were built, all of which have flown in the atmosphere and five of which have flown in space. Enterprise was used only for approach and landing tests, launching from the back of a Boeing 747 SCA and gliding to deadstick landings at Edwards AFB, California. The first Space Shuttle to fly into space was Columbia, followed by Challenger, Discovery, Atlantis, and Endeavour. Endeavour was built to replace Challenger when it was lost in January 1986. Columbia broke up</span><br><br><span style='color: gray;'>during reentry in February 2003. The first automatic partially reusable spacecraft was the Buran-class shuttle, launched by the USSR on November 15, 1988, although it made only one flight and this was uncrewed. This spaceplane was designed for a crew and strongly resembled the U.S. Space Shuttle, although its drop-off boosters used liquid propellants and its main engines were located at the base of what would be the external tank in the American Shuttle. Lack of funding, complicated by the dissolution of the USSR, prevented any further flights of Buran. The Space Shuttle was subsequently modified to allow for autonomous re-entry in case of necessity. Per the Vision for Space Exploration, the Space Shuttle was retired in 2011 mainly due to its old age and high cost of program reaching over a billion dollars per flight. The Shuttle's human transport role is to be replaced by SpaceX's SpaceX Dragon 2 and Boeing's CST-100 Starliner. Dragon 2's first crewed flight occurred on May 30, 2020. The Shuttle's heavy</span><br><br><span style='color: gray;'>cargo transport role is to be replaced by expendable rockets such as the Space Launch System and ULA's Vulcan rocket, as well as the commercial launch vehicles. Scaled Composites' SpaceShipOne was a reusable suborbital spaceplane that carried pilots Mike Melvill and Brian Binnie on consecutive flights in 2004 to win the Ansari X Prize. The Spaceship Company will build its successor SpaceShipTwo. A fleet of SpaceShipTwos operated by Virgin Galactic was planned to begin reusable private spaceflight carrying paying passengers in 2014, but was delayed after the crash of VSS Enterprise. ===Uncrewed spacecraft=== Uncrewed spacecraft are spacecraft without people on board. Uncrewed spacecraft may have varying levels of autonomy from human input; they may be remote controlled, remote guided or even autonomous, meaning they have a pre-programmed list of operations, which they will execute unless otherwise instructed. Many space missions are more suited to telerobotic rather than crewed operation, due to lower cost</span><br><br><span style='color: gray;'>vehicle : The launch vehicle propels the spacecraft from Earth's surface, through the atmosphere, and into an orbit, the exact orbit being dependent on the mission configuration. The launch vehicle may be expendable or reusable. ==See also== *Astrionics *Commercial astronaut *Flying saucer *List of crewed spacecraft *List of fictional spacecraft *NewSpace *Spacecraft design *Space exploration *Space launch *Spaceships in science fiction *Space suit *Spaceflight records *Starship *Timeline of Solar System exploration *U.S. Space Exploration History on U.S. Stamps == References == === Citations === === Sources === * * ==External links== *NASA: Space Science Spacecraft Missions *NSSDC Master Catalog Spacecraft Query Form *Early History of Spacecraft *Basics of Spaceflight tutorial from JPL/Caltech *International Spaceflight Museum Category:Astronautics Category:Pressure vessels</span><br/><br/><span style='color: gray;'>... additional chunks omitted</span>"
            ],
            "text/plain": [
              "<IPython.core.display.HTML object>"
            ]
          },
          "metadata": {},
          "output_type": "display_data"
        }
      ],
      "source": [
        "split_by_recursive_char(wikipedia_spacecraft, chunk_size=1024, chunk_overlap=0)"
      ]
    },
    {
      "cell_type": "code",
      "execution_count": 18,
      "metadata": {
        "id": "GXAMcK2I9vop"
      },
      "outputs": [
        {
          "name": "stdout",
          "output_type": "stream",
          "text": [
            "Number of chunks: 19\n",
            "\n"
          ]
        },
        {
          "data": {
            "text/html": [
              "<span style='color: gray;'>A spacecraft is a vehicle that is designed to fly in outer space. A type of artificial satellite, spacecraft are used for a variety of purposes, including communications, Earth observation, meteorology, navigation, space colonization, planetary exploration, and transportation of humans and cargo. All spacecraft except single-stage-to-orbit vehicles cannot get into space on their own, and require a launch vehicle (carrier rocket). On a sub-orbital spaceflight, a space vehicle enters space and then returns to the surface without having gained sufficient energy or velocity to make a full Earth orbit. For orbital spaceflights, spacecraft enter closed orbits around the Earth or around other celestial bodies. Spacecraft used for human spaceflight carry people on board as crew or passengers from start or on orbit (space stations) only, whereas those used for robotic space missions operate either autonomously or telerobotically. Robotic spacecraft used to support <span style='background-color: yellow; color: black;'>scientific research are space probes. Robotic</span></span><br><br><span style='color: gray;'><span style='background-color: yellow; color: black;'>scientific research are space probes. Robotic</span> spacecraft that remain in orbit around a planetary body are artificial satellites. To date, only a handful of interstellar probes, such as Pioneer 10 and 11, Voyager 1 and 2, and New Horizons, are on trajectories that leave the Solar System. Orbital spacecraft may be recoverable or not. Most are not. Recoverable spacecraft may be subdivided by a method of reentry to Earth into non-winged space capsules and winged spaceplanes. Recoverable spacecraft may be reusable (can be launched again or several times, like the SpaceX Dragon and the Space Shuttle orbiters) or expendable (like the Soyuz). In recent years, more space agencies are tending towards reusable spacecraft. Humanity has achieved space flight, but only a few nations have the technology for orbital launches: Russia (RSA or \"Roscosmos\"), the United States (NASA), the member states of the European Space Agency (ESA), Japan (JAXA), China (CNSA), India (ISRO), <span style='background-color: red; color: black;'>Taiwan National Chung-Shan Institute of Science</span></span><br><br><span style='color: gray;'><span style='background-color: red; color: black;'>Taiwan National Chung-Shan Institute of Science</span> and Technology, Taiwan National Space Organization (NSPO), Israel (ISA), Iran (ISA), and North Korea (NADA). In addition, several private companies have developed or are developing the technology for orbital launches independently from government agencies. The most prominent examples of such companies are SpaceX and Blue Origin. ==History== A German V-2 became the first spacecraft when it reached an altitude of 189 km in June 1944 in Peenemünde, Germany.Peenemünde (Dokumentation) Berlin: Moewig, 1984.. Sputnik 1 was the first artificial satellite. It was launched into an elliptical low Earth orbit (LEO) by the Soviet Union on 4 October 1957. The launch ushered in new political, military, technological, and scientific developments; while the Sputnik launch was a single event, it marked the start of the Space Age.Dougall, Walter A. (Winter 2010) \"Shooting the duck\", American Heritage Apart from its value as a technological <span style='background-color: lightgreen; color: black;'>first, Sputnik 1 also helped to identify</span></span><br><br><span style='color: gray;'><span style='background-color: lightgreen; color: black;'>first, Sputnik 1 also helped to identify</span> the upper atmospheric layer's density, by measuring the satellite's orbital changes. It also provided data on radio-signal distribution in the ionosphere. Pressurized nitrogen in the satellite's false body provided the first opportunity for meteoroid detection. Sputnik 1 was launched during the International Geophysical Year from Site No.1/5, at the 5th Tyuratam range, in Kazakh SSR (now at the Baikonur Cosmodrome). The satellite travelled at , taking 96.2 minutes to complete an orbit, and emitted radio signals at 20.005 and 40.002 MHz While Sputnik 1 was the first spacecraft to orbit the Earth, other human- made objects had previously reached an altitude of 100 km, which is the height required by the international organization Fédération Aéronautique Internationale to count as a spaceflight. This altitude is called the Kármán line. In particular, in the 1940s there were several test launches of the V-2 rocket, <span style='background-color: lightblue; color: black;'>some of which reached altitudes well over 100 km.</span></span><br><br><span style='color: gray;'><span style='background-color: lightblue; color: black;'>some of which reached altitudes well over 100 km.</span> ==Spacecraft types== ===Crewed spacecraft=== thumb|Apollo 17 command module in Lunar orbit As of 2016, only three nations have flown crewed spacecraft: USSR/Russia, USA, and China. The first crewed spacecraft was Vostok 1, which carried Soviet cosmonaut Yuri Gagarin into space in 1961, and completed a full Earth orbit. There were five other crewed missions which used a Vostok spacecraft. The second crewed spacecraft was named Freedom 7, and it performed a sub-orbital spaceflight in 1961 carrying American astronaut Alan Shepard to an altitude of just over . There were five other crewed missions using Mercury spacecraft. Other Soviet crewed spacecraft include the Voskhod, Soyuz, flown uncrewed as Zond/L1, L3, TKS, and the Salyut and Mir crewed space stations. Other American crewed spacecraft include the Gemini spacecraft, the Apollo spacecraft including the Apollo Lunar Module, the Skylab space station, the Space <span style='background-color: lightpink; color: black;'>Shuttle with undetached European Spacelab and</span></span><br><br><span style='color: gray;'><span style='background-color: lightpink; color: black;'>Shuttle with undetached European Spacelab and</span> private US Spacehab space stations- modules, and the SpaceX Crew Dragon configuration of their Dragon 2. US company Boeing also developed and flown a spacecraft of their own, the CST-100, commonly referred to as Starliner, but a crewed flight is yet to occur. China developed, but did not fly Shuguang, and is currently using Shenzhou (its first crewed mission was in 2003). Except for the Space Shuttle, all of the recoverable crewed orbital spacecraft were space capsules. File:NASA spacecraft comparison.jpg|alt=Drawings of Mercury, Gemini capsules and Apollo spacecraft, with their launch vehicles|American Mercury, Gemini, and Apollo spacecraft File:Vostok Spacecraft Diagram.svg|Soviet Vostok capsule File:Voskhod 1 and 2.svg|alt=Line drawing of Voskhod capsules|Soviet Voskhod (variant of Vostok) File:Soyuz 7K-OK(A) drawing.svg|alt=Soyuz 7K-OK(A) drawing|1967 Soviet/Russian Soyuz spacecraft File:Post S-7 <span style='background-color: #F0A3FF; color: black;'>Shenzhou spacecraft.png|alt=Drawing of Shenzhou</span></span><br><br><span style='color: gray;'><span style='background-color: #F0A3FF; color: black;'>Shenzhou spacecraft.png|alt=Drawing of Shenzhou</span> spacecraft|Chinese Shenzhou spacecraft The International Space Station, crewed since November 2000, is a joint venture between Russia, the United States, Canada and several other countries. ====Spaceplanes==== thumb|Columbia orbiter landing Spaceplanes are spacecraft that are built in the shape of, and function as, airplanes. The first example of such was the North American X-15 spaceplane, which conducted two crewed flights which reached an altitude of over 100 km in the 1960s. This first reusable spacecraft was air-launched on a suborbital trajectory on July 19, 1963. The first partially reusable orbital spacecraft, a winged non-capsule, the Space Shuttle, was launched by the USA on the 20th anniversary of Yuri Gagarin's flight, on April 12, 1981. During the Shuttle era, six orbiters were built, all of which have flown in the atmosphere and five of which have flown in space. Enterprise was used only for approach <span style='background-color: #0075DC; color: black;'>and landing tests, launching from the back of a</span></span><br><br><span style='color: gray;'><span style='background-color: #0075DC; color: black;'>and landing tests, launching from the back of a</span> Boeing 747 SCA and gliding to deadstick landings at Edwards AFB, California. The first Space Shuttle to fly into space was Columbia, followed by Challenger, Discovery, Atlantis, and Endeavour. Endeavour was built to replace Challenger when it was lost in January 1986. Columbia broke up during reentry in February 2003. The first automatic partially reusable spacecraft was the Buran-class shuttle, launched by the USSR on November 15, 1988, although it made only one flight and this was uncrewed. This spaceplane was designed for a crew and strongly resembled the U.S. Space Shuttle, although its drop-off boosters used liquid propellants and its main engines were located at the base of what would be the external tank in the American Shuttle. Lack of funding, complicated by the dissolution of the USSR, prevented any further flights of Buran. The Space Shuttle was subsequently modified to allow for autonomous re-entry <span style='background-color: #2BCE48; color: black;'>in case of necessity. Per the Vision for Space</span></span><br><br><span style='color: gray;'><span style='background-color: #2BCE48; color: black;'>in case of necessity. Per the Vision for Space</span> Exploration, the Space Shuttle was retired in 2011 mainly due to its old age and high cost of program reaching over a billion dollars per flight. The Shuttle's human transport role is to be replaced by SpaceX's SpaceX Dragon 2 and Boeing's CST-100 Starliner. Dragon 2's first crewed flight occurred on May 30, 2020. The Shuttle's heavy cargo transport role is to be replaced by expendable rockets such as the Space Launch System and ULA's Vulcan rocket, as well as the commercial launch vehicles. Scaled Composites' SpaceShipOne was a reusable suborbital spaceplane that carried pilots Mike Melvill and Brian Binnie on consecutive flights in 2004 to win the Ansari X Prize. The Spaceship Company will build its successor SpaceShipTwo. A fleet of SpaceShipTwos operated by Virgin Galactic was planned to begin reusable private spaceflight carrying paying passengers in 2014, but was delayed after the crash of VSS Enterprise. <span style='background-color: #FFCC99; color: black;'>===Uncrewed spacecraft=== Uncrewed spacecraft are</span></span><br><br><span style='color: gray;'>on the mission configuration. The launch vehicle may be expendable or reusable. ==See also== *Astrionics *Commercial astronaut *Flying saucer *List of crewed spacecraft *List of fictional spacecraft *NewSpace *Spacecraft design *Space exploration *Space launch *Spaceships in science fiction *Space suit *Spaceflight records *Starship *Timeline of Solar System exploration *U.S. Space Exploration History on U.S. Stamps == References == === Citations === === Sources === * * ==External links== *NASA: Space Science Spacecraft Missions *NSSDC Master Catalog Spacecraft Query Form *Early History of Spacecraft *Basics of Spaceflight tutorial from JPL/Caltech *International Spaceflight Museum Category:Astronautics Category:Pressure vessels</span><br/><br/><span style='color: gray;'>... additional chunks omitted</span>"
            ],
            "text/plain": [
              "<IPython.core.display.HTML object>"
            ]
          },
          "metadata": {},
          "output_type": "display_data"
        }
      ],
      "source": [
        "split_by_recursive_char(wikipedia_spacecraft, chunk_size=1024, chunk_overlap=50)"
      ]
    },
    {
      "cell_type": "code",
      "execution_count": 19,
      "metadata": {
        "id": "LKliFbbn97ky"
      },
      "outputs": [
        {
          "name": "stdout",
          "output_type": "stream",
          "text": [
            "Number of chunks: 8\n",
            "\n"
          ]
        },
        {
          "data": {
            "text/html": [
              "<span style='color: gray;'>a spacecraft is a vehicle that is designed to fly in outer space. a type of artificial satellite, spacecraft are used for a variety of purposes, including communications, earth observation, meteorology, navigation, space colonization, planetary exploration, and transportation of humans and cargo. all spacecraft except single - stage - to - orbit vehicles cannot get into space on their own, and require a launch vehicle ( carrier rocket ). on a sub - orbital spaceflight, a space vehicle enters space and then returns to the surface without having gained sufficient energy or velocity to make a full earth orbit. for orbital spaceflights, spacecraft enter closed orbits around the earth or around other celestial bodies. spacecraft used for human spaceflight carry people on board as crew or passengers from start or on orbit ( space stations ) only, whereas those used for robotic space missions operate either autonomously or telerobotically. robotic spacecraft used to support scientific research are space probes. robotic spacecraft that remain in orbit around a planetary body are artificial satellites. to date, only a handful of interstellar probes, such as pioneer 10 and 11, voyager 1 and 2, and new horizons, are on trajectories that leave the solar system. orbital spacecraft may be recoverable or not. most are not. recoverable spacecraft may be subdivided by a method of reentry to earth into non - winged space capsules and winged spaceplanes. recoverable spacecraft may be reusable ( can be launched again or several times, like the spacex dragon and the space shuttle orbiters ) or expendable ( like the soyuz ). in recent years, more space agencies are tending towards reusable spacecraft. humanity has achieved space flight, but only a few nations have the technology for orbital launches : russia ( rsa or \" roscosmos \" ), the united states ( nasa ), the member states of the european space agency ( esa ), japan ( jaxa ), china ( cnsa ), india ( isro ), taiwan national chung - shan institute of science and technology, taiwan national space organization ( nspo ), israel ( isa ), iran ( isa ), and north korea ( nada ). in addition, several private companies have developed or are developing the technology for orbital launches independently from government agencies. the most prominent examples of such companies are spacex and blue origin. = = history = = a german v - 2 became the first spacecraft when it reached an altitude of 189 km in</span><br><br><span style='color: gray;'>june 1944 in peenemunde, germany. peenemunde ( dokumentation ) berlin : moewig, 1984.. sputnik 1 was the first artificial satellite. it was launched into an elliptical low earth orbit ( leo ) by the soviet union on 4 october 1957. the launch ushered in new political, military, technological, and scientific developments ; while the sputnik launch was a single event, it marked the start of the space age. dougall, walter a. ( winter 2010 ) \" shooting the duck \", american heritage apart from its value as a technological first, sputnik 1 also helped to identify the upper atmospheric layer's density, by measuring the satellite's orbital changes. it also provided data on radio - signal distribution in the ionosphere. pressurized nitrogen in the satellite's false body provided the first opportunity for meteoroid detection. sputnik 1 was launched during the international geophysical year from site no. 1 / 5, at the 5th tyuratam range, in kazakh ssr ( now at the baikonur cosmodrome ). the satellite travelled at, taking 96. 2 minutes to complete an orbit, and emitted radio signals at 20. 005 and 40. 002 mhz while sputnik 1 was the first spacecraft to orbit the earth, other human - made objects had previously reached an altitude of 100 km, which is the height required by the international organization federation aeronautique internationale to count as a spaceflight. this altitude is called the karman line. in particular, in the 1940s there were several test launches of the v - 2 rocket, some of which reached altitudes well over 100 km. = = spacecraft types = = = = = crewed spacecraft = = = thumb | apollo 17 command module in lunar orbit as of 2016, only three nations have flown crewed spacecraft : ussr / russia, usa, and china. the first crewed spacecraft was vostok 1, which carried soviet cosmonaut yuri gagarin into space in 1961, and completed a full earth orbit. there were five other crewed missions which used a vostok spacecraft. the second crewed spacecraft was named freedom 7, and it performed a sub - orbital spaceflight in 1961 carrying american astronaut alan shepard to an altitude of just over. there were five other crewed missions using mercury spacecraft. other soviet crewed spacecraft include the voskhod, soyuz, flown uncrewed as zond / l1,</span><br><br><span style='color: gray;'>l3, tks, and the salyut and mir crewed space stations. other american crewed spacecraft include the gemini spacecraft, the apollo spacecraft including the apollo lunar module, the skylab space station, the space shuttle with undetached european spacelab and private us spacehab space stations - modules, and the spacex crew dragon configuration of their dragon 2. us company boeing also developed and flown a spacecraft of their own, the cst - 100, commonly referred to as starliner, but a crewed flight is yet to occur. china developed, but did not fly shuguang, and is currently using shenzhou ( its first crewed mission was in 2003 ). except for the space shuttle, all of the recoverable crewed orbital spacecraft were space capsules. file : nasa spacecraft comparison. jpg | alt = drawings of mercury, gemini capsules and apollo spacecraft, with their launch vehicles | american mercury, gemini, and apollo spacecraft file : vostok spacecraft diagram. svg | soviet vostok capsule file : voskhod 1 and 2. svg | alt = line drawing of voskhod capsules | soviet voskhod ( variant of vostok ) file : soyuz 7k - ok ( a ) drawing. svg | alt = soyuz 7k - ok ( a ) drawing | 1967 soviet / russian soyuz spacecraft file : post s - 7 shenzhou spacecraft. png | alt = drawing of shenzhou spacecraft | chinese shenzhou spacecraft the international space station, crewed since november 2000, is a joint venture between russia, the united states, canada and several other countries. = = = = spaceplanes = = = = thumb | columbia orbiter landing spaceplanes are spacecraft that are built in the shape of, and function as, airplanes. the first example of such was the north american x - 15 spaceplane, which conducted two crewed flights which reached an altitude of over 100 km in the 1960s. this first reusable spacecraft was air - launched on a suborbital trajectory on july 19, 1963. the first partially reusable orbital spacecraft, a winged non - capsule, the space shuttle, was launched by the usa on the 20th anniversary of yuri gagarin's flight, on april 12, 1981. during the shuttle era, six orbiters were built, all of which have flown in the atmosphere and five of which have flown in space. enterprise was used only for approach and</span><br><br><span style='color: gray;'>landing tests, launching from the back of a boeing 747 sca and gliding to deadstick landings at edwards afb, california. the first space shuttle to fly into space was columbia, followed by challenger, discovery, atlantis, and endeavour. endeavour was built to replace challenger when it was lost in january 1986. columbia broke up during reentry in february 2003. the first automatic partially reusable spacecraft was the buran - class shuttle, launched by the ussr on november 15, 1988, although it made only one flight and this was uncrewed. this spaceplane was designed for a crew and strongly resembled the u. s. space shuttle, although its drop - off boosters used liquid propellants and its main engines were located at the base of what would be the external tank in the american shuttle. lack of funding, complicated by the dissolution of the ussr, prevented any further flights of buran. the space shuttle was subsequently modified to allow for autonomous re - entry in case of necessity. per the vision for space exploration, the space shuttle was retired in 2011 mainly due to its old age and high cost of program reaching over a billion dollars per flight. the shuttle's human transport role is to be replaced by spacex's spacex dragon 2 and boeing's cst - 100 starliner. dragon 2's first crewed flight occurred on may 30, 2020. the shuttle's heavy cargo transport role is to be replaced by expendable rockets such as the space launch system and ula's vulcan rocket, as well as the commercial launch vehicles. scaled composites'spaceshipone was a reusable suborbital spaceplane that carried pilots mike melvill and brian binnie on consecutive flights in 2004 to win the ansari x prize. the spaceship company will build its successor spaceshiptwo. a fleet of spaceshiptwos operated by virgin galactic was planned to begin reusable private spaceflight carrying paying passengers in 2014, but was delayed after the crash of vss enterprise. = = = uncrewed spacecraft = = = uncrewed spacecraft are spacecraft without people on board. uncrewed spacecraft may have varying levels of autonomy from human input ; they may be remote controlled, remote guided or even autonomous, meaning they have a pre - programmed list of operations, which they will execute unless otherwise instructed. many space missions are more suited to telerobotic rather than crewed operation, due to lower cost and lower risk factors.</span><br><br><span style='color: gray;'>in addition, some planetary destinations such as venus or the vicinity of jupiter are too hostile for human survival. outer planets such as saturn, uranus, and neptune are too distant to reach with current crewed spaceflight technology, so telerobotic probes are the only way to explore them. telerobotics also allows exploration of regions that are vulnerable to contamination by earth micro - organisms since spacecraft can be sterilized. humans can not be sterilized in the same way as a spaceship, as they coexist with numerous micro - organisms, and these micro - organisms are also hard to contain within a spaceship or spacesuit. multiple space probes were sent to study moon, the planets, the sun, multiple small solar system bodies ( comets and asteroids ). special class of uncrewed spacecraft is space telescopes, a telescope in outer space used to observe astronomical objects. the first operational telescopes were the american orbiting astronomical observatory, oao - 2 launched in 1968, and the soviet orion 1 ultraviolet telescope aboard space station salyut 1 in 1971. space telescopes avoid the filtering and distortion ( scintillation ) of electromagnetic radiation which they observe, and avoid light pollution which ground - based observatories encounter. the best - known examples are hubble space telescope and james webb space telescope. cargo spacecraft are designed to carry cargo, possibly to support space stations'operation by transporting food, propellant and other supplies. automated cargo spacecraft have been used since 1978 and have serviced salyut 6, salyut 7, mir, the international space station and tiangong space station. = = = = fastest spacecraft = = = = * parker solar probe ( estimated at first sun close pass, will reach at final perihelion ) * helios i and ii solar probes ( ) = = = = furthest spacecraft from the sun = = = = * voyager 1 at 156. 13 au as of april 2022, traveling outward at about * pioneer 10 at 122. 48 au as of december 2018, traveling outward at about * voyager 2 at 122. 82 au as of january 2020, traveling outward at about * pioneer 11 at 101. 17 au as of december 2018, traveling outward at about = = subsystems = = a spacecraft astrionics system comprises different subsystems, depending on the mission profile. spacecraft subsystems comprise the spacecraft's bus and may include attitude determination and control ( variously called adac, adc, or acs</span><br><br><span style='color: gray;'>), guidance, navigation and control ( gnc or gn & c ; ), communications ( comms ), command and data handling ( cdh or c & dh ; ), power ( eps ), thermal control ( tcs ), propulsion, and structures. attached to the bus are typically payloads. ; life support : spacecraft intended for human spaceflight must also include a life support system for the crew. ; attitude control : a spacecraft needs an attitude control subsystem to be correctly oriented in space and respond to external torques and forces properly. the attitude control subsystem consists of sensors and actuators, together with controlling algorithms. the attitude - control subsystem permits proper pointing for the science objective, sun pointing for power to the solar arrays and earth pointing for communications. ; gnc : guidance refers to the calculation of the commands ( usually done by the cdh subsystem ) needed to steer the spacecraft where it is desired to be. navigation means determining a spacecraft's orbital elements or position. control means adjusting the path of the spacecraft to meet mission requirements. ; command and data handling : the c & dh ; subsystem receives commands from the communications subsystem, performs validation and decoding of the commands, and distributes the commands to the appropriate spacecraft subsystems and components. the cdh also receives housekeeping data and science data from the other spacecraft subsystems and components, and packages the data for storage on a data recorder or transmission to the ground via the communications subsystem. other functions of the cdh include maintaining the spacecraft clock and state - of - health monitoring. ; communications : spacecraft, both robotic and crewed, have various communications systems for communication with terrestrial stations and for inter - satellite service. technologies include space radio station and optical communication. in addition, some spacecraft payloads are explicitly for the purpose of ground – ground communication using receiver / retransmitter electronic technologies. ; power : spacecraft need an electrical power generation and distribution subsystem for powering the various spacecraft subsystems. for spacecraft near the sun, solar panels are frequently used to generate electrical power. spacecraft designed to operate in more distant locations, for example jupiter, might employ a radioisotope thermoelectric generator ( rtg ) to generate electrical power. electrical power is sent through power conditioning equipment before it passes through a power distribution unit over an electrical bus to other spacecraft components.</span><br><br><span style='color: gray;'>batteries are typically connected to the bus via a battery charge regulator, and the batteries are used to provide electrical power during periods when primary power is not available, for example when a low earth orbit spacecraft is eclipsed by earth. ; thermal control : spacecraft must be engineered to withstand transit through earth's atmosphere and the space environment. they must operate in a vacuum with temperatures potentially ranging across hundreds of degrees celsius as well as ( if subject to reentry ) in the presence of plasmas. material requirements are such that either high melting temperature, low density materials such as beryllium and reinforced carbon – carbon or ( possibly due to the lower thickness requirements despite its high density ) tungsten or ablative carbon – carbon composites are used. depending on mission profile, spacecraft may also need to operate on the surface of another planetary body. the thermal control subsystem can be passive, dependent on the selection of materials with specific radiative properties. active thermal control makes use of electrical heaters and certain actuators such as louvers to control temperature ranges of equipments within specific ranges. ; spacecraft propulsion : spacecraft may or may not have a propulsion subsystem, depending on whether or not the mission profile calls for propulsion. the swift spacecraft is an example of a spacecraft that does not have a propulsion subsystem. typically though, leo spacecraft include a propulsion subsystem for altitude adjustments ( drag make - up maneuvers ) and inclination adjustment maneuvers. a propulsion system is also needed for spacecraft that perform momentum management maneuvers. components of a conventional propulsion subsystem include fuel, tankage, valves, pipes, and thrusters. the thermal control system interfaces with the propulsion subsystem by monitoring the temperature of those components, and by preheating tanks and thrusters in preparation for a spacecraft maneuver. ; structures : spacecraft must be engineered to withstand launch loads imparted by the launch vehicle, and must have a point of attachment for all the other subsystems. depending on mission profile, the structural subsystem might need to withstand loads imparted by entry into the atmosphere of another planetary body, and landing on the surface of another planetary body. ; payload : the payload depends on the mission of the spacecraft, and is typically regarded as the part of the spacecraft \" that pays the bills \". typical payloads could include scientific instruments ( cameras, telescopes, or particle detectors, for example ), cargo, or a human crew</span><br><br><span style='color: gray;'>. ; ground segment : the ground segment, though not technically part of the spacecraft, is vital to the operation of the spacecraft. typical components of a ground segment in use during normal operations include a mission operations facility where the flight operations team conducts the operations of the spacecraft, a data processing and storage facility, ground stations to radiate signals to and receive signals from the spacecraft, and a voice and data communications network to connect all mission elements. ; launch vehicle : the launch vehicle propels the spacecraft from earth's surface, through the atmosphere, and into an orbit, the exact orbit being dependent on the mission configuration. the launch vehicle may be expendable or reusable. = = see also = = * astrionics * commercial astronaut * flying saucer * list of crewed spacecraft * list of fictional spacecraft * newspace * spacecraft design * space exploration * space launch * spaceships in science fiction * space suit * spaceflight records * starship * timeline of solar system exploration * u. s. space exploration history on u. s. stamps = = references = = = = = citations = = = = = = sources = = = * * = = external links = = * nasa : space science spacecraft missions * nssdc master catalog spacecraft query form * early history of spacecraft * basics of spaceflight tutorial from jpl / caltech * international spaceflight museum category : astronautics category : pressure vessels</span><br/><br/><span style='color: gray;'>... additional chunks omitted</span>"
            ],
            "text/plain": [
              "<IPython.core.display.HTML object>"
            ]
          },
          "metadata": {},
          "output_type": "display_data"
        }
      ],
      "source": [
        "token_c500_o0 = split_by_token(wikipedia_spacecraft, tokens_per_chunk=500, chunk_overlap=0, ret=True)"
      ]
    },
    {
      "cell_type": "code",
      "execution_count": 20,
      "metadata": {
        "id": "aAI1bgTR-ZXw"
      },
      "outputs": [
        {
          "name": "stdout",
          "output_type": "stream",
          "text": [
            "Number of chunks: 10\n",
            "\n"
          ]
        },
        {
          "data": {
            "text/html": [
              "<span style='color: gray;'>a spacecraft is a vehicle that is designed to fly in outer space. a type of artificial satellite, spacecraft are used for a variety of purposes, including communications, earth observation, meteorology, navigation, space colonization, planetary exploration, and transportation of humans and cargo. all spacecraft except single - stage - to - orbit vehicles cannot get into space on their own, and require a launch vehicle ( carrier rocket ). on a sub - orbital spaceflight, a space vehicle enters space and then returns to the surface without having gained sufficient energy or velocity to make a full earth orbit. for orbital spaceflights, spacecraft enter closed orbits around the earth or around other celestial bodies. spacecraft used for human spaceflight carry people on board as crew or passengers from start or on orbit ( space stations ) only, whereas those used for robotic space missions operate either autonomously or telerobotically. robotic spacecraft used to support scientific research are space probes. robotic spacecraft that remain in orbit around a planetary body are artificial satellites. to date, only a handful of interstellar probes, such as pioneer 10 and 11, voyager 1 and 2, and new horizons, are on trajectories that leave the solar system. orbital spacecraft may be recoverable or not. most are not. recoverable spacecraft may be subdivided by a method of reentry to earth into non - winged space capsules and winged spaceplanes. recoverable spacecraft may be reusable ( can be launched again or several times, like the spacex dragon and the space shuttle orbiters ) or expendable ( like the soyuz ). in recent years, more space agencies are tending towards reusable spacecraft. humanity has achieved space flight, but only a few nations have the technology for orbital launches : russia ( rsa or \" roscosmos \" ), the united states ( nasa ), the member states of the european space agency ( esa ), japan ( jaxa ), china ( cnsa ), india ( <span style='background-color: yellow; color: black;'>isro ), taiwan national chung - shan institute of science and technology, taiwan national space organization ( nspo ), israel ( isa ), iran ( isa ), and north korea ( nada ). in addition, several private companies have developed or are developing the technology for orbital launches independently from government agencies. the most prominent examples of such companies are spacex and blue origin. = = history = = a german v - 2 became the first spacecraft when it reached an altitude of 189 km in</span></span><br><br><span style='color: gray;'><span style='background-color: yellow; color: black;'>isro ), taiwan national chung - shan institute of science and technology, taiwan national space organization ( nspo ), israel ( isa ), iran ( isa ), and north korea ( nada ). in addition, several private companies have developed or are developing the technology for orbital launches independently from government agencies. the most prominent examples of such companies are spacex and blue origin. = = history = = a german v - 2 became the first spacecraft when it reached an altitude of 189 km in</span> june 1944 in peenemunde, germany. peenemunde ( dokumentation ) berlin : moewig, 1984.. sputnik 1 was the first artificial satellite. it was launched into an elliptical low earth orbit ( leo ) by the soviet union on 4 october 1957. the launch ushered in new political, military, technological, and scientific developments ; while the sputnik launch was a single event, it marked the start of the space age. dougall, walter a. ( winter 2010 ) \" shooting the duck \", american heritage apart from its value as a technological first, sputnik 1 also helped to identify the upper atmospheric layer's density, by measuring the satellite's orbital changes. it also provided data on radio - signal distribution in the ionosphere. pressurized nitrogen in the satellite's false body provided the first opportunity for meteoroid detection. sputnik 1 was launched during the international geophysical year from site no. 1 / 5, at the 5th tyuratam range, in kazakh ssr ( now at the baikonur cosmodrome ). the satellite travelled at, taking 96. 2 minutes to complete an orbit, and emitted radio signals at 20. 005 and 40. 002 mhz while sputnik 1 was the first spacecraft to orbit the earth, other human - made objects had previously reached an altitude of 100 km, which is the height required by the international organization federation aeronautique internationale to count as a spaceflight<span style='background-color: red; color: black;'>. this altitude is called the karman line. in particular, in the 1940s there were several test launches of the v - 2 rocket, some of which reached altitudes well over 100 km. = = spacecraft types = = = = = crewed spacecraft = = = thumb | apollo 17 command module in lunar orbit as of 2016, only three nations have flown crewed spacecraft : ussr / russia, usa, and china. the first crewed spacecraft was vostok 1, which carried soviet cosmo</span></span><br><br><span style='color: gray;'><span style='background-color: red; color: black;'>. this altitude is called the karman line. in particular, in the 1940s there were several test launches of the v - 2 rocket, some of which reached altitudes well over 100 km. = = spacecraft types = = = = = crewed spacecraft = = = thumb | apollo 17 command module in lunar orbit as of 2016, only three nations have flown crewed spacecraft : ussr / russia, usa, and china. the first crewed spacecraft was vostok 1, which carried soviet cosmo</span>naut yuri gagarin into space in 1961, and completed a full earth orbit. there were five other crewed missions which used a vostok spacecraft. the second crewed spacecraft was named freedom 7, and it performed a sub - orbital spaceflight in 1961 carrying american astronaut alan shepard to an altitude of just over. there were five other crewed missions using mercury spacecraft. other soviet crewed spacecraft include the voskhod, soyuz, flown uncrewed as zond / l1, l3, tks, and the salyut and mir crewed space stations. other american crewed spacecraft include the gemini spacecraft, the apollo spacecraft including the apollo lunar module, the skylab space station, the space shuttle with undetached european spacelab and private us spacehab space stations - modules, and the spacex crew dragon configuration of their dragon 2. us company boeing also developed and flown a spacecraft of their own, the cst - 100, commonly referred to as starliner, but a crewed flight is yet to occur. china developed, but did not fly shuguang, and is currently using shenzhou ( its first crewed mission was in 2003 ). except for the space shuttle, all of the recoverable crewed orbital spacecraft were space capsules. file : nasa spacecraft comparison. jpg | alt = drawings of mercury, gemini capsules and apollo spacecraft, with their launch vehicles | american mercury, gemini, and apollo spacecraft file : vostok spacecraft <span style='background-color: lightgreen; color: black;'>diagram. svg | soviet vostok capsule file : voskhod 1 and 2. svg | alt = line drawing of voskhod capsules | soviet voskhod ( variant of vostok ) file : soyuz 7k - ok ( a ) drawing. svg | alt = soyuz 7k - ok ( a ) drawing | 1967 soviet / russian soyuz spacecraft file : post s - 7 shenzhou spacecraft. png | alt = drawing of shenzhou spacecraft</span></span><br><br><span style='color: gray;'><span style='background-color: lightgreen; color: black;'>diagram. svg | soviet vostok capsule file : voskhod 1 and 2. svg | alt = line drawing of voskhod capsules | soviet voskhod ( variant of vostok ) file : soyuz 7k - ok ( a ) drawing. svg | alt = soyuz 7k - ok ( a ) drawing | 1967 soviet / russian soyuz spacecraft file : post s - 7 shenzhou spacecraft. png | alt = drawing of shenzhou spacecraft</span> | chinese shenzhou spacecraft the international space station, crewed since november 2000, is a joint venture between russia, the united states, canada and several other countries. = = = = spaceplanes = = = = thumb | columbia orbiter landing spaceplanes are spacecraft that are built in the shape of, and function as, airplanes. the first example of such was the north american x - 15 spaceplane, which conducted two crewed flights which reached an altitude of over 100 km in the 1960s. this first reusable spacecraft was air - launched on a suborbital trajectory on july 19, 1963. the first partially reusable orbital spacecraft, a winged non - capsule, the space shuttle, was launched by the usa on the 20th anniversary of yuri gagarin's flight, on april 12, 1981. during the shuttle era, six orbiters were built, all of which have flown in the atmosphere and five of which have flown in space. enterprise was used only for approach and landing tests, launching from the back of a boeing 747 sca and gliding to deadstick landings at edwards afb, california. the first space shuttle to fly into space was columbia, followed by challenger, discovery, atlantis, and endeavour. endeavour was built to replace challenger when it was lost in january 1986. columbia broke up during reentry in february 2003. the first automatic partially reusable spacecraft was the buran - class shuttle, launched by the ussr on november 15, 1988, although it <span style='background-color: lightblue; color: black;'>made only one flight and this was uncrewed. this spaceplane was designed for a crew and strongly resembled the u. s. space shuttle, although its drop - off boosters used liquid propellants and its main engines were located at the base of what would be the external tank in the american shuttle. lack of funding, complicated by the dissolution of the ussr, prevented any further flights of buran. the space shuttle was subsequently modified to allow for autonomous re - entry in case of necessity</span></span><br><br><span style='color: gray;'><span style='background-color: lightblue; color: black;'>made only one flight and this was uncrewed. this spaceplane was designed for a crew and strongly resembled the u. s. space shuttle, although its drop - off boosters used liquid propellants and its main engines were located at the base of what would be the external tank in the american shuttle. lack of funding, complicated by the dissolution of the ussr, prevented any further flights of buran. the space shuttle was subsequently modified to allow for autonomous re - entry in case of necessity</span>. per the vision for space exploration, the space shuttle was retired in 2011 mainly due to its old age and high cost of program reaching over a billion dollars per flight. the shuttle's human transport role is to be replaced by spacex's spacex dragon 2 and boeing's cst - 100 starliner. dragon 2's first crewed flight occurred on may 30, 2020. the shuttle's heavy cargo transport role is to be replaced by expendable rockets such as the space launch system and ula's vulcan rocket, as well as the commercial launch vehicles. scaled composites'spaceshipone was a reusable suborbital spaceplane that carried pilots mike melvill and brian binnie on consecutive flights in 2004 to win the ansari x prize. the spaceship company will build its successor spaceshiptwo. a fleet of spaceshiptwos operated by virgin galactic was planned to begin reusable private spaceflight carrying paying passengers in 2014, but was delayed after the crash of vss enterprise. = = = uncrewed spacecraft = = = uncrewed spacecraft are spacecraft without people on board. uncrewed spacecraft may have varying levels of autonomy from human input ; they may be remote controlled, remote guided or even autonomous, meaning they have a pre - programmed list of operations, which they will execute unless otherwise instructed. many space missions are more suited to telerobotic rather than crewed operation, due to lower cost and lower risk factors. <span style='background-color: lightpink; color: black;'>in addition, some planetary destinations such as venus or the vicinity of jupiter are too hostile for human survival. outer planets such as saturn, uranus, and neptune are too distant to reach with current crewed spaceflight technology, so telerobotic probes are the only way to explore them. telerobotics also allows exploration of regions that are vulnerable to contamination by earth micro - organisms since spacecraft can be sterilized. humans can not be sterilized in the same way as a</span></span><br><br><span style='color: gray;'><span style='background-color: lightpink; color: black;'>in addition, some planetary destinations such as venus or the vicinity of jupiter are too hostile for human survival. outer planets such as saturn, uranus, and neptune are too distant to reach with current crewed spaceflight technology, so telerobotic probes are the only way to explore them. telerobotics also allows exploration of regions that are vulnerable to contamination by earth micro - organisms since spacecraft can be sterilized. humans can not be sterilized in the same way as a</span> spaceship, as they coexist with numerous micro - organisms, and these micro - organisms are also hard to contain within a spaceship or spacesuit. multiple space probes were sent to study moon, the planets, the sun, multiple small solar system bodies ( comets and asteroids ). special class of uncrewed spacecraft is space telescopes, a telescope in outer space used to observe astronomical objects. the first operational telescopes were the american orbiting astronomical observatory, oao - 2 launched in 1968, and the soviet orion 1 ultraviolet telescope aboard space station salyut 1 in 1971. space telescopes avoid the filtering and distortion ( scintillation ) of electromagnetic radiation which they observe, and avoid light pollution which ground - based observatories encounter. the best - known examples are hubble space telescope and james webb space telescope. cargo spacecraft are designed to carry cargo, possibly to support space stations'operation by transporting food, propellant and other supplies. automated cargo spacecraft have been used since 1978 and have serviced salyut 6, salyut 7, mir, the international space station and tiangong space station. = = = = fastest spacecraft = = = = * parker solar probe ( estimated at first sun close pass, will reach at final perihelion ) * helios i and ii solar probes ( ) = = = = furthest spacecraft from the sun = = = = * voyager 1 at 156. 13 au as of april 2022, traveling outward at about * pioneer 10 <span style='background-color: #F0A3FF; color: black;'>at 122. 48 au as of december 2018, traveling outward at about * voyager 2 at 122. 82 au as of january 2020, traveling outward at about * pioneer 11 at 101. 17 au as of december 2018, traveling outward at about = = subsystems = = a spacecraft astrionics system comprises different subsystems, depending on the mission profile. spacecraft subsystems comprise the spacecraft's bus and may include attitude determination and control ( variously called adac, adc, or acs</span></span><br><br><span style='color: gray;'><span style='background-color: #F0A3FF; color: black;'>at 122. 48 au as of december 2018, traveling outward at about * voyager 2 at 122. 82 au as of january 2020, traveling outward at about * pioneer 11 at 101. 17 au as of december 2018, traveling outward at about = = subsystems = = a spacecraft astrionics system comprises different subsystems, depending on the mission profile. spacecraft subsystems comprise the spacecraft's bus and may include attitude determination and control ( variously called adac, adc, or acs</span> ), guidance, navigation and control ( gnc or gn & c ; ), communications ( comms ), command and data handling ( cdh or c & dh ; ), power ( eps ), thermal control ( tcs ), propulsion, and structures. attached to the bus are typically payloads. ; life support : spacecraft intended for human spaceflight must also include a life support system for the crew. ; attitude control : a spacecraft needs an attitude control subsystem to be correctly oriented in space and respond to external torques and forces properly. the attitude control subsystem consists of sensors and actuators, together with controlling algorithms. the attitude - control subsystem permits proper pointing for the science objective, sun pointing for power to the solar arrays and earth pointing for communications. ; gnc : guidance refers to the calculation of the commands ( usually done by the cdh subsystem ) needed to steer the spacecraft where it is desired to be. navigation means determining a spacecraft's orbital elements or position. control means adjusting the path of the spacecraft to meet mission requirements. ; command and data handling : the c & dh ; subsystem receives commands from the communications subsystem, performs validation and decoding of the commands, and distributes the commands to the appropriate spacecraft subsystems and components. the cdh also receives housekeeping data and science data from the other spacecraft subsystems and components, and packages the data for storage <span style='background-color: #0075DC; color: black;'>on a data recorder or transmission to the ground via the communications subsystem. other functions of the cdh include maintaining the spacecraft clock and state - of - health monitoring. ; communications : spacecraft, both robotic and crewed, have various communications systems for communication with terrestrial stations and for inter - satellite service. technologies include space radio station and optical communication. in addition, some spacecraft payloads are explicitly for the purpose of ground – ground communication using receiver / retransmitter electronic technologies.</span></span><br><br><span style='color: gray;'><span style='background-color: #0075DC; color: black;'>on a data recorder or transmission to the ground via the communications subsystem. other functions of the cdh include maintaining the spacecraft clock and state - of - health monitoring. ; communications : spacecraft, both robotic and crewed, have various communications systems for communication with terrestrial stations and for inter - satellite service. technologies include space radio station and optical communication. in addition, some spacecraft payloads are explicitly for the purpose of ground – ground communication using receiver / retransmitter electronic technologies.</span> ; power : spacecraft need an electrical power generation and distribution subsystem for powering the various spacecraft subsystems. for spacecraft near the sun, solar panels are frequently used to generate electrical power. spacecraft designed to operate in more distant locations, for example jupiter, might employ a radioisotope thermoelectric generator ( rtg ) to generate electrical power. electrical power is sent through power conditioning equipment before it passes through a power distribution unit over an electrical bus to other spacecraft components. batteries are typically connected to the bus via a battery charge regulator, and the batteries are used to provide electrical power during periods when primary power is not available, for example when a low earth orbit spacecraft is eclipsed by earth. ; thermal control : spacecraft must be engineered to withstand transit through earth's atmosphere and the space environment. they must operate in a vacuum with temperatures potentially ranging across hundreds of degrees celsius as well as ( if subject to reentry ) in the presence of plasmas. material requirements are such that either high melting temperature, low density materials such as beryllium and reinforced carbon – carbon or ( possibly due to the lower thickness requirements despite its high density ) tungsten or ablative carbon – carbon composites are used. depending on mission profile, spacecraft may also need to operate on the surface of another planetary body. the thermal control subsystem can be passive, dependent on the selection of materials with specific radiative properties. active thermal control makes use of <span style='background-color: #2BCE48; color: black;'>electrical heaters and certain actuators such as louvers to control temperature ranges of equipments within specific ranges. ; spacecraft propulsion : spacecraft may or may not have a propulsion subsystem, depending on whether or not the mission profile calls for propulsion. the swift spacecraft is an example of a spacecraft that does not have a propulsion subsystem. typically though, leo spacecraft include a propulsion subsystem for altitude adjustments ( drag make - up maneuvers ) and inclination adjustment maneuvers. a</span></span><br><br><span style='color: gray;'><span style='background-color: #2BCE48; color: black;'>electrical heaters and certain actuators such as louvers to control temperature ranges of equipments within specific ranges. ; spacecraft propulsion : spacecraft may or may not have a propulsion subsystem, depending on whether or not the mission profile calls for propulsion. the swift spacecraft is an example of a spacecraft that does not have a propulsion subsystem. typically though, leo spacecraft include a propulsion subsystem for altitude adjustments ( drag make - up maneuvers ) and inclination adjustment maneuvers. a</span> propulsion system is also needed for spacecraft that perform momentum management maneuvers. components of a conventional propulsion subsystem include fuel, tankage, valves, pipes, and thrusters. the thermal control system interfaces with the propulsion subsystem by monitoring the temperature of those components, and by preheating tanks and thrusters in preparation for a spacecraft maneuver. ; structures : spacecraft must be engineered to withstand launch loads imparted by the launch vehicle, and must have a point of attachment for all the other subsystems. depending on mission profile, the structural subsystem might need to withstand loads imparted by entry into the atmosphere of another planetary body, and landing on the surface of another planetary body. ; payload : the payload depends on the mission of the spacecraft, and is typically regarded as the part of the spacecraft \" that pays the bills \". typical payloads could include scientific instruments ( cameras, telescopes, or particle detectors, for example ), cargo, or a human crew. ; ground segment : the ground segment, though not technically part of the spacecraft, is vital to the operation of the spacecraft. typical components of a ground segment in use during normal operations include a mission operations facility where the flight operations team conducts the operations of the spacecraft, a data processing and storage facility, ground stations to radiate signals to and receive signals from the spacecraft, and a voice and data communications network to connect all mission elements. ; launch vehicle : the launch vehicle propels the spacecraft <span style='background-color: #FFCC99; color: black;'>from earth's surface, through the atmosphere, and into an orbit, the exact orbit being dependent on the mission configuration. the launch vehicle may be expendable or reusable. = = see also = = * astrionics * commercial astronaut * flying saucer * list of crewed spacecraft * list of fictional spacecraft * newspace * spacecraft design * space exploration * space launch * spaceships in science fiction * space suit * spaceflight records * starship * timeline of solar system</span></span><br><br><span style='color: gray;'><span style='background-color: #FFCC99; color: black;'>from earth's surface, through the atmosphere, and into an orbit, the exact orbit being dependent on the mission configuration. the launch vehicle may be expendable or reusable. = = see also = = * astrionics * commercial astronaut * flying saucer * list of crewed spacecraft * list of fictional spacecraft * newspace * spacecraft design * space exploration * space launch * spaceships in science fiction * space suit * spaceflight records * starship * timeline of solar system</span> exploration * u. s. space exploration history on u. s. stamps = = references = = = = = citations = = = = = = sources = = = * * = = external links = = * nasa : space science spacecraft missions * nssdc master catalog spacecraft query form * early history of spacecraft * basics of spaceflight tutorial from jpl / caltech * international spaceflight museum category : astronautics category : pressure vessels</span><br/><br/><span style='color: gray;'>... additional chunks omitted</span>"
            ],
            "text/plain": [
              "<IPython.core.display.HTML object>"
            ]
          },
          "metadata": {},
          "output_type": "display_data"
        }
      ],
      "source": [
        "token_c500_o250 = split_by_token(wikipedia_spacecraft, tokens_per_chunk=500, chunk_overlap=100, ret=True)"
      ]
    },
    {
      "cell_type": "markdown",
      "metadata": {
        "id": "BUApSzG6SXfK"
      },
      "source": [
        "## Step 10: Let's comapare using the whole passage vs the best chunk with ChatGPT"
      ]
    },
    {
      "cell_type": "code",
      "execution_count": 21,
      "metadata": {
        "id": "xpjUDLUKEtSi"
      },
      "outputs": [
        {
          "name": "stdout",
          "output_type": "stream",
          "text": [
            "\u001b[94mPrompt:\u001b[0m\n",
            "\u001b[94mWhat three countries have flown manned spacecraft?\u001b[0m\n",
            "\u001b[94m\tCompletionUsage(completion_tokens=24, prompt_tokens=3817, total_tokens=3841)\u001b[0m\n",
            "As of 2016, only three nations have flown crewed spacecraft:\n",
            "USSR/Russia, USA, and China.\n"
          ]
        }
      ],
      "source": [
        "the_full_text = wikipedia_spacecraft[0][\"text\"]\n",
        "\n",
        "question = \"What three countries have flown manned spacecraft?\"\n",
        "\n",
        "def gen_system_prompt(context):\n",
        "  return f\"\"\"You are an AI assistant than answers questions based on the provided context.\n",
        "Use only the provided context.  If the provided context does not have the answer\n",
        "reply only with 'I do not know'\n",
        "\n",
        "Context: {context}\"\"\"\n",
        "\n",
        "import textwrap\n",
        "# wrap text when printing, because colab scrolls output to the right too much\n",
        "def wrap_text(text, width):\n",
        "    wrapped_text = textwrap.wrap(text, width)\n",
        "    return '\\n'.join(wrapped_text)\n",
        "\n",
        "def print_light_blue(text):\n",
        "    print(f'\\033[94m{text}\\033[0m')\n",
        "\n",
        "def chatCompletion(messages):\n",
        "\n",
        "    client = OpenAI(api_key=openai.api_key, base_url=openai.api_base)\n",
        "    completion = client.chat.completions.create(\n",
        "        model=openai.default_model,\n",
        "        max_tokens=150,\n",
        "        messages=messages\n",
        "    )\n",
        "    print_light_blue(f\"\\t{completion.usage}\")\n",
        "\n",
        "    return completion\n",
        "\n",
        "def chatWithSpacePassage(prompt, context):\n",
        "    messages = [\n",
        "        {\"role\": \"system\", \"content\": gen_system_prompt(context)},\n",
        "        {\"role\": \"user\", \"content\": prompt}\n",
        "      ]\n",
        "    print_light_blue(\"Prompt:\")\n",
        "    print_light_blue(wrap_text(messages[1][\"content\"],70))\n",
        "    completion = chatCompletion(messages)\n",
        "\n",
        "    response_text = completion.choices[0].message.content\n",
        "\n",
        "    return wrap_text(response_text,70)\n",
        "\n",
        "\n",
        "ai_response = chatWithSpacePassage(question, the_full_text)\n",
        "\n",
        "print(ai_response)\n"
      ]
    },
    {
      "cell_type": "markdown",
      "metadata": {
        "id": "nI6AQ0ACSZ9n"
      },
      "source": [
        "## Step 11: Reducing LLM inference costs by 91%\n",
        "\n",
        "We'll deep dive into how to use Elasticearch to speed up the vector search and other kinds of Search Powered AI in the next part of the workshop.\n",
        "\n"
      ]
    },
    {
      "cell_type": "code",
      "execution_count": 22,
      "metadata": {
        "id": "RD6Znhd7Gfiu"
      },
      "outputs": [
        {
          "name": "stdout",
          "output_type": "stream",
          "text": [
            "some of which reached altitudes well ove - Cosine distance 0.141125142574\n",
            "scientific research are space probes. Ro - Cosine distance 0.185961365700\n",
            "A spacecraft is a vehicle that is design - Cosine distance 0.190120041370\n",
            "\n",
            "some of which reached altitudes well over 100 km. ==Spacecraft types==\n",
            "===Crewed spacecraft=== thumb|Apollo 17 command module in Lunar orbit\n",
            "As of 2016, only three nations have flown crewed spacecraft:\n",
            "USSR/Russia, USA, and China. The first crewed spacecraft was Vostok 1,\n",
            "which carried Soviet cosmonaut Yuri Gagarin into space in 1961, and\n",
            "completed a full Earth orbit. There were five other crewed missions\n",
            "which used a Vostok spacecraft. The second crewed spacecraft was named\n",
            "Freedom 7, and it performed a sub-orbital spaceflight in 1961 carrying\n",
            "American astronaut Alan Shepard to an altitude of just over . There\n",
            "were five other crewed missions using Mercury spacecraft. Other Soviet\n",
            "crewed spacecraft include the Voskhod, Soyuz, flown uncrewed as\n",
            "Zond/L1, L3, TKS, and the Salyut and Mir crewed space stations. Other\n",
            "American crewed spacecraft include the Gemini spacecraft, the Apollo\n",
            "spacecraft including the Apollo Lunar Module, the Skylab space\n",
            "station, the Space Shuttle with undetached European Spacelab and\n",
            "\n",
            "\u001b[94mPrompt:\u001b[0m\n",
            "\u001b[94mWhat three countries have flown manned spacecraft?\u001b[0m\n",
            "\u001b[94m\tCompletionUsage(completion_tokens=24, prompt_tokens=300, total_tokens=324)\u001b[0m\n",
            "As of 2016, only three nations have flown crewed spacecraft:\n",
            "USSR/Russia, USA, and China.\n"
          ]
        }
      ],
      "source": [
        "# the_full_text = wikipedia_spacecraft[0][\"text\"]\n",
        "\n",
        "text_splitter = RecursiveCharacterTextSplitter(\n",
        "    chunk_size=1024,\n",
        "    chunk_overlap=50,\n",
        "    length_function=len\n",
        ")\n",
        "\n",
        "chunks = text_splitter.split_text(the_full_text)\n",
        "\n",
        "## Vectorizing can take time so I'm only processing the first few chunks\n",
        "sorted_chunks = chunks_by_distance(chunks[:5], question, e5_model)\n",
        "\n",
        "## top 3 chunk distances\n",
        "for passage, dist in sorted_chunks[:3]:\n",
        "  print(f\"{passage[:40]} - Cosine distance {dist:.12f}\")\n",
        "print(\"\")\n",
        "\n",
        "top_passage = sorted_chunks[0][0]\n",
        "print(wrap_text(top_passage, 70))\n",
        "print(\"\")\n",
        "\n",
        "ai_response = chatWithSpacePassage(question, top_passage)\n",
        "print(ai_response)"
      ]
    },
    {
      "cell_type": "markdown",
      "metadata": {},
      "source": [
        "🛑 Stop Here 🛑\n",
        "\n",
        "This Ends Lab 3-1\n",
        "<hr/>"
      ]
    }
  ],
  "metadata": {
    "colab": {
      "provenance": []
    },
    "kernelspec": {
      "display_name": "Python 3",
      "name": "python3"
    },
    "language_info": {
      "codemirror_mode": {
        "name": "ipython",
        "version": 3
      },
      "file_extension": ".py",
      "mimetype": "text/x-python",
      "name": "python",
      "nbconvert_exporter": "python",
      "pygments_lexer": "ipython3",
      "version": "3.10.13"
    }
  },
  "nbformat": 4,
  "nbformat_minor": 0
}
